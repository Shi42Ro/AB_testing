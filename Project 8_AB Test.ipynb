{
 "cells": [
  {
   "cell_type": "markdown",
   "metadata": {},
   "source": [
    "# A/B TEST AND HYPOTHESES TO BOOST MARKETING REVENUE"
   ]
  },
  {
   "cell_type": "markdown",
   "metadata": {},
   "source": [
    "# Introduction <a id='intro'></a>\n",
    "\n",
    "- This project will have two main part which focus on the A/B test and hypotheses to boost marketing revenue.\n",
    "- For Part 1: Hypotheses, ICE (Impact, Confidence, and Ease) framework and RICE (Reach, Impact, Confidence and Effort) frame work will be applied. Nine hypotheses contained in hypotheses_us file.\n",
    "- For Part 2: A/B Test will be carried out which based on the files orders of orders_us and visits_us.\n",
    "- Below are the dataset contained in three files:\n",
    "\n",
    "> /datasets/hypotheses_us.csv \n",
    "> - Hypotheses — brief descriptions of the hypotheses\n",
    "> - Reach — user reach, on a scale of one to ten\n",
    "> - Impact — impact on users, on a scale of one to ten\n",
    "> - Confidence — confidence in the hypothesis, on a scale of one to ten\n",
    "> - Effort — the resources required to test a hypothesis, on a scale of one to ten. The higher the Effort value, the more resource-intensive the test.\n",
    "\n",
    "> /datasets/orders_us.csv \n",
    "> - transactionId — order identifier\n",
    "> - visitorId — identifier of the user who placed the order\n",
    "> - date — of the order\n",
    "> - revenue — from the order\n",
    "> - group — the A/B test group that the user belongs to\n",
    "\n",
    "> /datasets/visits_us.csv \n",
    "> - date — date\n",
    "> - group — A/B test group\n",
    "> - visits — the number of visits on the date specified in the A/B test group specified\n",
    "\n",
    "Apply the ICE framework to prioritize hypotheses. Sort them in descending order of priority.\n",
    "Apply the RICE framework to prioritize hypotheses. Sort them in descending order of priority.\n",
    "Show how the prioritization of hypotheses changes when you use RICE instead of ICE. Provide an explanation for the changes.\n",
    "\n",
    "## Goals:\n",
    "\n",
    "- To apply the ICE framework to prioritize hypotheses and sort them in descending order of priority.\n",
    "- To apply the RICE framework to prioritize hypotheses and sort them in descending order of priority.\n",
    "- To carried out A/B test for the marketing revenue"
   ]
  },
  {
   "cell_type": "markdown",
   "metadata": {},
   "source": [
    " # Table of Contents  \n",
    "1. [Stage 1: Data Preprocessing](#1)\n",
    "    1. ['hypotheses' file](#2)\n",
    "    1. ['orders' file](#3) \n",
    "    1. ['visits' file](#4) \n",
    "1. [Part 1: Prioritizing Hypotheses](#5) \n",
    "    1. [ICE Framework](#6)\n",
    "    1. [RICE Framework](#7)\n",
    "    1. [Prioritization of hypotheses changes](#8)\n",
    "1. [Part 2: A/B Test Analysis](#9)   \n",
    "    1. [Cumulative revenue by group](#10)\n",
    "    1. [Cumulative average order size by group](#11)\n",
    "    1. [Relative difference in cumulative average order size](#12)\n",
    "    1. [Calculation for each group's conversion rate](#13)\n",
    "    1. [Number of orders per user](#14)\n",
    "    1. [Calculation of the 95th and 99th percentiles for the number of orders per user](#15)\n",
    "    1. [Plot a scatter chart of order prices](#16)\n",
    "    1. [Calculation of the 95th and 99th percentiles of order prices](#17)\n",
    "    1. [Statistical significance of the difference in conversion between the groups using the raw data](#18)\n",
    "    1. [Statistical significance of the difference in average order size between the groups using the raw data](#19)\n",
    "    1. [Statistical significance of the difference in conversion between the groups using the filtered data](#20)\n",
    "    1. [Statistical significance of the difference in average order size between the groups using the filtered data](#21)\n",
    "1. [Stage 2: Make a decision based on the test results](#22)"
   ]
  },
  {
   "cell_type": "markdown",
   "metadata": {},
   "source": [
    "<a id=\"1\"></a> \n",
    "# Stage 1 : Data Preprocessing"
   ]
  },
  {
   "cell_type": "code",
   "execution_count": 1,
   "metadata": {},
   "outputs": [
    {
     "name": "stdout",
     "output_type": "stream",
     "text": [
      "Collecting missingno\n",
      "  Downloading missingno-0.5.2-py3-none-any.whl (8.7 kB)\n",
      "Collecting numpy\n",
      "  Downloading numpy-1.26.4-cp310-cp310-manylinux_2_17_x86_64.manylinux2014_x86_64.whl (18.2 MB)\n",
      "\u001b[2K     \u001b[90m━━━━━━━━━━━━━━━━━━━━━━━━━━━━━━━━━━━━━━━━\u001b[0m \u001b[32m18.2/18.2 MB\u001b[0m \u001b[31m53.8 MB/s\u001b[0m eta \u001b[36m0:00:00\u001b[0m00:01\u001b[0m00:01\u001b[0m\n",
      "\u001b[?25hCollecting seaborn\n",
      "  Downloading seaborn-0.13.2-py3-none-any.whl (294 kB)\n",
      "\u001b[2K     \u001b[90m━━━━━━━━━━━━━━━━━━━━━━━━━━━━━━━━━━━━━━\u001b[0m \u001b[32m294.9/294.9 kB\u001b[0m \u001b[31m31.7 MB/s\u001b[0m eta \u001b[36m0:00:00\u001b[0m\n",
      "\u001b[?25hCollecting scipy\n",
      "  Downloading scipy-1.13.1-cp310-cp310-manylinux_2_17_x86_64.manylinux2014_x86_64.whl (38.6 MB)\n",
      "\u001b[2K     \u001b[90m━━━━━━━━━━━━━━━━━━━━━━━━━━━━━━━━━━━━━━━━\u001b[0m \u001b[32m38.6/38.6 MB\u001b[0m \u001b[31m36.3 MB/s\u001b[0m eta \u001b[36m0:00:00\u001b[0m00:01\u001b[0m00:01\u001b[0m\n",
      "\u001b[?25hCollecting matplotlib\n",
      "  Downloading matplotlib-3.9.0-cp310-cp310-manylinux_2_17_x86_64.manylinux2014_x86_64.whl (8.3 MB)\n",
      "\u001b[2K     \u001b[90m━━━━━━━━━━━━━━━━━━━━━━━━━━━━━━━━━━━━━━━━\u001b[0m \u001b[32m8.3/8.3 MB\u001b[0m \u001b[31m90.4 MB/s\u001b[0m eta \u001b[36m0:00:00\u001b[0m:00:01\u001b[0m00:01\u001b[0m\n",
      "\u001b[?25hRequirement already satisfied: python-dateutil>=2.7 in /opt/conda/lib/python3.10/site-packages (from matplotlib->missingno) (2.8.2)\n",
      "Collecting pillow>=8\n",
      "  Downloading pillow-10.3.0-cp310-cp310-manylinux_2_28_x86_64.whl (4.5 MB)\n",
      "\u001b[2K     \u001b[90m━━━━━━━━━━━━━━━━━━━━━━━━━━━━━━━━━━━━━━━━\u001b[0m \u001b[32m4.5/4.5 MB\u001b[0m \u001b[31m97.0 MB/s\u001b[0m eta \u001b[36m0:00:00\u001b[0m:00:01\u001b[0m\n",
      "\u001b[?25hCollecting pyparsing>=2.3.1\n",
      "  Downloading pyparsing-3.1.2-py3-none-any.whl (103 kB)\n",
      "\u001b[2K     \u001b[90m━━━━━━━━━━━━━━━━━━━━━━━━━━━━━━━━━━━━━━\u001b[0m \u001b[32m103.2/103.2 kB\u001b[0m \u001b[31m25.9 MB/s\u001b[0m eta \u001b[36m0:00:00\u001b[0m\n",
      "\u001b[?25hCollecting cycler>=0.10\n",
      "  Downloading cycler-0.12.1-py3-none-any.whl (8.3 kB)\n",
      "Requirement already satisfied: packaging>=20.0 in /opt/conda/lib/python3.10/site-packages (from matplotlib->missingno) (23.0)\n",
      "Collecting kiwisolver>=1.3.1\n",
      "  Downloading kiwisolver-1.4.5-cp310-cp310-manylinux_2_12_x86_64.manylinux2010_x86_64.whl (1.6 MB)\n",
      "\u001b[2K     \u001b[90m━━━━━━━━━━━━━━━━━━━━━━━━━━━━━━━━━━━━━━━━\u001b[0m \u001b[32m1.6/1.6 MB\u001b[0m \u001b[31m82.1 MB/s\u001b[0m eta \u001b[36m0:00:00\u001b[0m\n",
      "\u001b[?25hCollecting contourpy>=1.0.1\n",
      "  Downloading contourpy-1.2.1-cp310-cp310-manylinux_2_17_x86_64.manylinux2014_x86_64.whl (305 kB)\n",
      "\u001b[2K     \u001b[90m━━━━━━━━━━━━━━━━━━━━━━━━━━━━━━━━━━━━━━\u001b[0m \u001b[32m305.2/305.2 kB\u001b[0m \u001b[31m34.9 MB/s\u001b[0m eta \u001b[36m0:00:00\u001b[0m\n",
      "\u001b[?25hCollecting fonttools>=4.22.0\n",
      "  Downloading fonttools-4.52.1-cp310-cp310-manylinux_2_17_x86_64.manylinux2014_x86_64.whl (4.6 MB)\n",
      "\u001b[2K     \u001b[90m━━━━━━━━━━━━━━━━━━━━━━━━━━━━━━━━━━━━━━━━\u001b[0m \u001b[32m4.6/4.6 MB\u001b[0m \u001b[31m80.4 MB/s\u001b[0m eta \u001b[36m0:00:00\u001b[0mta \u001b[36m0:00:01\u001b[0m\n",
      "\u001b[?25hCollecting pandas>=1.2\n",
      "  Downloading pandas-2.2.2-cp310-cp310-manylinux_2_17_x86_64.manylinux2014_x86_64.whl (13.0 MB)\n",
      "\u001b[2K     \u001b[90m━━━━━━━━━━━━━━━━━━━━━━━━━━━━━━━━━━━━━━━━\u001b[0m \u001b[32m13.0/13.0 MB\u001b[0m \u001b[31m64.9 MB/s\u001b[0m eta \u001b[36m0:00:00\u001b[0m00:01\u001b[0m00:01\u001b[0m\n",
      "\u001b[?25hRequirement already satisfied: pytz>=2020.1 in /opt/conda/lib/python3.10/site-packages (from pandas>=1.2->seaborn->missingno) (2022.7.1)\n",
      "Collecting tzdata>=2022.7\n",
      "  Downloading tzdata-2024.1-py2.py3-none-any.whl (345 kB)\n",
      "\u001b[2K     \u001b[90m━━━━━━━━━━━━━━━━━━━━━━━━━━━━━━━━━━━━━━\u001b[0m \u001b[32m345.4/345.4 kB\u001b[0m \u001b[31m39.3 MB/s\u001b[0m eta \u001b[36m0:00:00\u001b[0m\n",
      "\u001b[?25hRequirement already satisfied: six>=1.5 in /opt/conda/lib/python3.10/site-packages (from python-dateutil>=2.7->matplotlib->missingno) (1.16.0)\n",
      "Installing collected packages: tzdata, pyparsing, pillow, numpy, kiwisolver, fonttools, cycler, scipy, pandas, contourpy, matplotlib, seaborn, missingno\n",
      "Successfully installed contourpy-1.2.1 cycler-0.12.1 fonttools-4.52.1 kiwisolver-1.4.5 matplotlib-3.9.0 missingno-0.5.2 numpy-1.26.4 pandas-2.2.2 pillow-10.3.0 pyparsing-3.1.2 scipy-1.13.1 seaborn-0.13.2 tzdata-2024.1\n"
     ]
    }
   ],
   "source": [
    "!pip install missingno"
   ]
  },
  {
   "cell_type": "code",
   "execution_count": 3,
   "metadata": {},
   "outputs": [],
   "source": [
    "from scipy import stats as st #for probability and calculation of statistics\n",
    "import pandas as pd #for dataframe manipulation\n",
    "import numpy as np #for advanced mathematic operation\n",
    "import matplotlib.pyplot as plt #for plotting and visualize graph\n",
    "import seaborn as sns\n",
    "import nltk #for string/text manipulation\n",
    "import statsmodels.stats.proportion as sp"
   ]
  },
  {
   "cell_type": "markdown",
   "metadata": {},
   "source": [
    "<a id=\"2\"></a> \n",
    "## 'Hypotheses' file"
   ]
  },
  {
   "cell_type": "code",
   "execution_count": 4,
   "metadata": {},
   "outputs": [],
   "source": [
    "# Loading note from the remote Jupyter Hub Notebook (visits_df)\n",
    "try:\n",
    "    hypotheses_df = pd.read_csv('/datasets/hypotheses_us.csv', sep=';')\n",
    "# If dataset fails to be loaded from the remote Jupyter Hub Notebook\n",
    "# try loading dataset from my local path\n",
    "except:\n",
    "    # Try loading the file locally\n",
    "    try:\n",
    "        hypotheses_df = pd.read_csv('/datasets/hypotheses_us.csv', sep=';')\n",
    "    # Run if dataset loading fails\n",
    "    except Exception as e:\n",
    "        print(f\"Error handling dataset loading: {e}\")"
   ]
  },
  {
   "cell_type": "code",
   "execution_count": 5,
   "metadata": {},
   "outputs": [
    {
     "name": "stdout",
     "output_type": "stream",
     "text": [
      "<class 'pandas.core.frame.DataFrame'>\n",
      "RangeIndex: 9 entries, 0 to 8\n",
      "Data columns (total 5 columns):\n",
      " #   Column      Non-Null Count  Dtype \n",
      "---  ------      --------------  ----- \n",
      " 0   Hypothesis  9 non-null      object\n",
      " 1   Reach       9 non-null      int64 \n",
      " 2   Impact      9 non-null      int64 \n",
      " 3   Confidence  9 non-null      int64 \n",
      " 4   Effort      9 non-null      int64 \n",
      "dtypes: int64(4), object(1)\n",
      "memory usage: 488.0+ bytes\n"
     ]
    },
    {
     "data": {
      "text/html": [
       "<div>\n",
       "<style scoped>\n",
       "    .dataframe tbody tr th:only-of-type {\n",
       "        vertical-align: middle;\n",
       "    }\n",
       "\n",
       "    .dataframe tbody tr th {\n",
       "        vertical-align: top;\n",
       "    }\n",
       "\n",
       "    .dataframe thead th {\n",
       "        text-align: right;\n",
       "    }\n",
       "</style>\n",
       "<table border=\"1\" class=\"dataframe\">\n",
       "  <thead>\n",
       "    <tr style=\"text-align: right;\">\n",
       "      <th></th>\n",
       "      <th>Hypothesis</th>\n",
       "      <th>Reach</th>\n",
       "      <th>Impact</th>\n",
       "      <th>Confidence</th>\n",
       "      <th>Effort</th>\n",
       "    </tr>\n",
       "  </thead>\n",
       "  <tbody>\n",
       "    <tr>\n",
       "      <th>0</th>\n",
       "      <td>Add two new channels for attracting traffic. This will bring 30% more users</td>\n",
       "      <td>3</td>\n",
       "      <td>10</td>\n",
       "      <td>8</td>\n",
       "      <td>6</td>\n",
       "    </tr>\n",
       "    <tr>\n",
       "      <th>1</th>\n",
       "      <td>Launch your own delivery service. This will shorten delivery time</td>\n",
       "      <td>2</td>\n",
       "      <td>5</td>\n",
       "      <td>4</td>\n",
       "      <td>10</td>\n",
       "    </tr>\n",
       "    <tr>\n",
       "      <th>2</th>\n",
       "      <td>Add product recommendation blocks to the store's site. This will increase conversion and average purchase size</td>\n",
       "      <td>8</td>\n",
       "      <td>3</td>\n",
       "      <td>7</td>\n",
       "      <td>3</td>\n",
       "    </tr>\n",
       "    <tr>\n",
       "      <th>3</th>\n",
       "      <td>Change the category structure. This will increase conversion since users will find the products they want more quickly</td>\n",
       "      <td>8</td>\n",
       "      <td>3</td>\n",
       "      <td>3</td>\n",
       "      <td>8</td>\n",
       "    </tr>\n",
       "    <tr>\n",
       "      <th>4</th>\n",
       "      <td>Change the background color on the main page. This will increase user engagement</td>\n",
       "      <td>3</td>\n",
       "      <td>1</td>\n",
       "      <td>1</td>\n",
       "      <td>1</td>\n",
       "    </tr>\n",
       "    <tr>\n",
       "      <th>5</th>\n",
       "      <td>Add a customer review page. This will increase the number of orders</td>\n",
       "      <td>3</td>\n",
       "      <td>2</td>\n",
       "      <td>2</td>\n",
       "      <td>3</td>\n",
       "    </tr>\n",
       "    <tr>\n",
       "      <th>6</th>\n",
       "      <td>Show banners with current offers and sales on the main page. This will boost conversion</td>\n",
       "      <td>5</td>\n",
       "      <td>3</td>\n",
       "      <td>8</td>\n",
       "      <td>3</td>\n",
       "    </tr>\n",
       "    <tr>\n",
       "      <th>7</th>\n",
       "      <td>Add a subscription form to all the main pages. This will help you compile a mailing list</td>\n",
       "      <td>10</td>\n",
       "      <td>7</td>\n",
       "      <td>8</td>\n",
       "      <td>5</td>\n",
       "    </tr>\n",
       "    <tr>\n",
       "      <th>8</th>\n",
       "      <td>Launch a promotion that gives users discounts on their birthdays</td>\n",
       "      <td>1</td>\n",
       "      <td>9</td>\n",
       "      <td>9</td>\n",
       "      <td>5</td>\n",
       "    </tr>\n",
       "  </tbody>\n",
       "</table>\n",
       "</div>"
      ],
      "text/plain": [
       "                                                                                                               Hypothesis  \\\n",
       "0                                             Add two new channels for attracting traffic. This will bring 30% more users   \n",
       "1                                                       Launch your own delivery service. This will shorten delivery time   \n",
       "2          Add product recommendation blocks to the store's site. This will increase conversion and average purchase size   \n",
       "3  Change the category structure. This will increase conversion since users will find the products they want more quickly   \n",
       "4                                        Change the background color on the main page. This will increase user engagement   \n",
       "5                                                     Add a customer review page. This will increase the number of orders   \n",
       "6                                 Show banners with current offers and sales on the main page. This will boost conversion   \n",
       "7                                Add a subscription form to all the main pages. This will help you compile a mailing list   \n",
       "8                                                        Launch a promotion that gives users discounts on their birthdays   \n",
       "\n",
       "   Reach  Impact  Confidence  Effort  \n",
       "0      3      10           8       6  \n",
       "1      2       5           4      10  \n",
       "2      8       3           7       3  \n",
       "3      8       3           3       8  \n",
       "4      3       1           1       1  \n",
       "5      3       2           2       3  \n",
       "6      5       3           8       3  \n",
       "7     10       7           8       5  \n",
       "8      1       9           9       5  "
      ]
     },
     "metadata": {},
     "output_type": "display_data"
    }
   ],
   "source": [
    "hypotheses_df.info()\n",
    "\n",
    "hypotheses_df.head(10)\n",
    "\n",
    "# Set the maximum width for the \"Hypothesis\" column\n",
    "pd.set_option('display.max_colwidth', None)\n",
    "\n",
    "# Display the DataFrame\n",
    "display(hypotheses_df)"
   ]
  },
  {
   "cell_type": "code",
   "execution_count": 6,
   "metadata": {},
   "outputs": [],
   "source": [
    "# Change column names to lowercase in 'hypotheses_df'\n",
    "hypotheses_df.columns = hypotheses_df.columns.str.lower()"
   ]
  },
  {
   "cell_type": "code",
   "execution_count": 7,
   "metadata": {},
   "outputs": [
    {
     "data": {
      "text/plain": [
       "hypothesis    0\n",
       "reach         0\n",
       "impact        0\n",
       "confidence    0\n",
       "effort        0\n",
       "dtype: int64"
      ]
     },
     "execution_count": 7,
     "metadata": {},
     "output_type": "execute_result"
    }
   ],
   "source": [
    "# Check missing values in 'hypotheses_df'\n",
    "hypotheses_missing_values = hypotheses_df.isna().sum()\n",
    "hypotheses_missing_values"
   ]
  },
  {
   "cell_type": "code",
   "execution_count": 8,
   "metadata": {},
   "outputs": [
    {
     "data": {
      "text/plain": [
       "0"
      ]
     },
     "execution_count": 8,
     "metadata": {},
     "output_type": "execute_result"
    }
   ],
   "source": [
    "# Check duplicated values in 'hypotheses_df'\n",
    "hypotheses_duplicates = hypotheses_df['hypothesis'].duplicated().sum()\n",
    "hypotheses_duplicates"
   ]
  },
  {
   "cell_type": "markdown",
   "metadata": {},
   "source": [
    "<a id=\"3\"></a> \n",
    "## 'Orders' file"
   ]
  },
  {
   "cell_type": "code",
   "execution_count": 9,
   "metadata": {},
   "outputs": [],
   "source": [
    "# Loading note from the remote Jupyter Hub Notebook (visits_df)\n",
    "try:\n",
    "    orders_df = pd.read_csv('/datasets/orders_us.csv')\n",
    "# If dataset fails to be loaded from the remote Jupyter Hub Notebook\n",
    "# try loading dataset from my local path\n",
    "except:\n",
    "    # Try loading the file locally\n",
    "    try:\n",
    "        orders_df = pd.read_csv('/datasets/orders_us.csv')\n",
    "    # Run if dataset loading fails\n",
    "    except Exception as e:\n",
    "        print(f\"Error handling dataset loading: {e}\")"
   ]
  },
  {
   "cell_type": "code",
   "execution_count": 10,
   "metadata": {},
   "outputs": [
    {
     "name": "stdout",
     "output_type": "stream",
     "text": [
      "<class 'pandas.core.frame.DataFrame'>\n",
      "RangeIndex: 1197 entries, 0 to 1196\n",
      "Data columns (total 5 columns):\n",
      " #   Column         Non-Null Count  Dtype  \n",
      "---  ------         --------------  -----  \n",
      " 0   transactionId  1197 non-null   int64  \n",
      " 1   visitorId      1197 non-null   int64  \n",
      " 2   date           1197 non-null   object \n",
      " 3   revenue        1197 non-null   float64\n",
      " 4   group          1197 non-null   object \n",
      "dtypes: float64(1), int64(2), object(2)\n",
      "memory usage: 46.9+ KB\n"
     ]
    },
    {
     "data": {
      "text/html": [
       "<div>\n",
       "<style scoped>\n",
       "    .dataframe tbody tr th:only-of-type {\n",
       "        vertical-align: middle;\n",
       "    }\n",
       "\n",
       "    .dataframe tbody tr th {\n",
       "        vertical-align: top;\n",
       "    }\n",
       "\n",
       "    .dataframe thead th {\n",
       "        text-align: right;\n",
       "    }\n",
       "</style>\n",
       "<table border=\"1\" class=\"dataframe\">\n",
       "  <thead>\n",
       "    <tr style=\"text-align: right;\">\n",
       "      <th></th>\n",
       "      <th>transactionId</th>\n",
       "      <th>visitorId</th>\n",
       "      <th>date</th>\n",
       "      <th>revenue</th>\n",
       "      <th>group</th>\n",
       "    </tr>\n",
       "  </thead>\n",
       "  <tbody>\n",
       "    <tr>\n",
       "      <th>0</th>\n",
       "      <td>3667963787</td>\n",
       "      <td>3312258926</td>\n",
       "      <td>2019-08-15</td>\n",
       "      <td>30.4</td>\n",
       "      <td>B</td>\n",
       "    </tr>\n",
       "    <tr>\n",
       "      <th>1</th>\n",
       "      <td>2804400009</td>\n",
       "      <td>3642806036</td>\n",
       "      <td>2019-08-15</td>\n",
       "      <td>15.2</td>\n",
       "      <td>B</td>\n",
       "    </tr>\n",
       "    <tr>\n",
       "      <th>2</th>\n",
       "      <td>2961555356</td>\n",
       "      <td>4069496402</td>\n",
       "      <td>2019-08-15</td>\n",
       "      <td>10.2</td>\n",
       "      <td>A</td>\n",
       "    </tr>\n",
       "    <tr>\n",
       "      <th>3</th>\n",
       "      <td>3797467345</td>\n",
       "      <td>1196621759</td>\n",
       "      <td>2019-08-15</td>\n",
       "      <td>155.1</td>\n",
       "      <td>B</td>\n",
       "    </tr>\n",
       "    <tr>\n",
       "      <th>4</th>\n",
       "      <td>2282983706</td>\n",
       "      <td>2322279887</td>\n",
       "      <td>2019-08-15</td>\n",
       "      <td>40.5</td>\n",
       "      <td>B</td>\n",
       "    </tr>\n",
       "  </tbody>\n",
       "</table>\n",
       "</div>"
      ],
      "text/plain": [
       "   transactionId   visitorId        date  revenue group\n",
       "0     3667963787  3312258926  2019-08-15     30.4     B\n",
       "1     2804400009  3642806036  2019-08-15     15.2     B\n",
       "2     2961555356  4069496402  2019-08-15     10.2     A\n",
       "3     3797467345  1196621759  2019-08-15    155.1     B\n",
       "4     2282983706  2322279887  2019-08-15     40.5     B"
      ]
     },
     "metadata": {},
     "output_type": "display_data"
    }
   ],
   "source": [
    "orders_df.info()\n",
    "display(orders_df.head())"
   ]
  },
  {
   "cell_type": "code",
   "execution_count": 11,
   "metadata": {},
   "outputs": [],
   "source": [
    "# Change column names to lowercase in 'orders_df'\n",
    "orders_df.columns = orders_df.columns.str.lower()"
   ]
  },
  {
   "cell_type": "code",
   "execution_count": 12,
   "metadata": {},
   "outputs": [],
   "source": [
    "# Change column names to lowercase in 'orders_df'\n",
    "orders_df.columns = orders_df.columns.str.lower()\n",
    "\n",
    "# Rename columns in 'orders_df'\n",
    "orders_df = orders_df.rename(columns={'transactionid': 'transaction_id', 'visitorid': 'visitor_id'})"
   ]
  },
  {
   "cell_type": "code",
   "execution_count": 13,
   "metadata": {},
   "outputs": [
    {
     "data": {
      "text/plain": [
       "transaction_id    0\n",
       "visitor_id        0\n",
       "date              0\n",
       "revenue           0\n",
       "group             0\n",
       "dtype: int64"
      ]
     },
     "execution_count": 13,
     "metadata": {},
     "output_type": "execute_result"
    }
   ],
   "source": [
    "# Check missing values in 'orders_df'\n",
    "orders_missing_values = orders_df.isna().sum()\n",
    "orders_missing_values"
   ]
  },
  {
   "cell_type": "code",
   "execution_count": 14,
   "metadata": {},
   "outputs": [
    {
     "data": {
      "text/plain": [
       "166"
      ]
     },
     "execution_count": 14,
     "metadata": {},
     "output_type": "execute_result"
    }
   ],
   "source": [
    "# Check duplicated values in 'orders_df'\n",
    "orders_duplicates = orders_df['visitor_id'].duplicated().sum()\n",
    "orders_duplicates"
   ]
  },
  {
   "cell_type": "code",
   "execution_count": 15,
   "metadata": {},
   "outputs": [
    {
     "data": {
      "text/plain": [
       "1031"
      ]
     },
     "execution_count": 15,
     "metadata": {},
     "output_type": "execute_result"
    }
   ],
   "source": [
    "orders_df['visitor_id'].nunique()"
   ]
  },
  {
   "cell_type": "markdown",
   "metadata": {},
   "source": [
    "- Based on total row, there was 1197 compared to unique values within the column. This is normal as we might have repetitive customer with the same visitorid making a purchase."
   ]
  },
  {
   "cell_type": "code",
   "execution_count": 16,
   "metadata": {},
   "outputs": [
    {
     "name": "stdout",
     "output_type": "stream",
     "text": [
      "<class 'pandas.core.frame.DataFrame'>\n",
      "RangeIndex: 1197 entries, 0 to 1196\n",
      "Data columns (total 5 columns):\n",
      " #   Column          Non-Null Count  Dtype         \n",
      "---  ------          --------------  -----         \n",
      " 0   transaction_id  1197 non-null   int64         \n",
      " 1   visitor_id      1197 non-null   int64         \n",
      " 2   date            1197 non-null   datetime64[ns]\n",
      " 3   revenue         1197 non-null   float64       \n",
      " 4   group           1197 non-null   object        \n",
      "dtypes: datetime64[ns](1), float64(1), int64(2), object(1)\n",
      "memory usage: 46.9+ KB\n"
     ]
    }
   ],
   "source": [
    "# Convert columns to datetime format in 'orders_df'\n",
    "orders_df['date'] = pd.to_datetime(orders_df['date'])\n",
    "orders_df.info()"
   ]
  },
  {
   "cell_type": "markdown",
   "metadata": {},
   "source": [
    "<a id=\"4\"></a> \n",
    "## 'Visits' file"
   ]
  },
  {
   "cell_type": "code",
   "execution_count": 17,
   "metadata": {},
   "outputs": [],
   "source": [
    "# Loading note from the remote Jupyter Hub Notebook (visits_df)\n",
    "try:\n",
    "    visits_df = pd.read_csv('/datasets/visits_us.csv')\n",
    "# If dataset fails to be loaded from the remote Jupyter Hub Notebook\n",
    "# try loading dataset from my local path\n",
    "except:\n",
    "    # Try loading the file locally\n",
    "    try:\n",
    "        visits_df = pd.read_csv('/datasets/visits_us.csv')\n",
    "    # Run if dataset loading fails\n",
    "    except Exception as e:\n",
    "        print(f\"Error handling dataset loading: {e}\")"
   ]
  },
  {
   "cell_type": "code",
   "execution_count": 18,
   "metadata": {},
   "outputs": [
    {
     "name": "stdout",
     "output_type": "stream",
     "text": [
      "<class 'pandas.core.frame.DataFrame'>\n",
      "RangeIndex: 62 entries, 0 to 61\n",
      "Data columns (total 3 columns):\n",
      " #   Column  Non-Null Count  Dtype \n",
      "---  ------  --------------  ----- \n",
      " 0   date    62 non-null     object\n",
      " 1   group   62 non-null     object\n",
      " 2   visits  62 non-null     int64 \n",
      "dtypes: int64(1), object(2)\n",
      "memory usage: 1.6+ KB\n"
     ]
    },
    {
     "data": {
      "text/html": [
       "<div>\n",
       "<style scoped>\n",
       "    .dataframe tbody tr th:only-of-type {\n",
       "        vertical-align: middle;\n",
       "    }\n",
       "\n",
       "    .dataframe tbody tr th {\n",
       "        vertical-align: top;\n",
       "    }\n",
       "\n",
       "    .dataframe thead th {\n",
       "        text-align: right;\n",
       "    }\n",
       "</style>\n",
       "<table border=\"1\" class=\"dataframe\">\n",
       "  <thead>\n",
       "    <tr style=\"text-align: right;\">\n",
       "      <th></th>\n",
       "      <th>date</th>\n",
       "      <th>group</th>\n",
       "      <th>visits</th>\n",
       "    </tr>\n",
       "  </thead>\n",
       "  <tbody>\n",
       "    <tr>\n",
       "      <th>0</th>\n",
       "      <td>2019-08-01</td>\n",
       "      <td>A</td>\n",
       "      <td>719</td>\n",
       "    </tr>\n",
       "    <tr>\n",
       "      <th>1</th>\n",
       "      <td>2019-08-02</td>\n",
       "      <td>A</td>\n",
       "      <td>619</td>\n",
       "    </tr>\n",
       "    <tr>\n",
       "      <th>2</th>\n",
       "      <td>2019-08-03</td>\n",
       "      <td>A</td>\n",
       "      <td>507</td>\n",
       "    </tr>\n",
       "    <tr>\n",
       "      <th>3</th>\n",
       "      <td>2019-08-04</td>\n",
       "      <td>A</td>\n",
       "      <td>717</td>\n",
       "    </tr>\n",
       "    <tr>\n",
       "      <th>4</th>\n",
       "      <td>2019-08-05</td>\n",
       "      <td>A</td>\n",
       "      <td>756</td>\n",
       "    </tr>\n",
       "  </tbody>\n",
       "</table>\n",
       "</div>"
      ],
      "text/plain": [
       "         date group  visits\n",
       "0  2019-08-01     A     719\n",
       "1  2019-08-02     A     619\n",
       "2  2019-08-03     A     507\n",
       "3  2019-08-04     A     717\n",
       "4  2019-08-05     A     756"
      ]
     },
     "metadata": {},
     "output_type": "display_data"
    }
   ],
   "source": [
    "visits_df.info()\n",
    "display(visits_df.head())"
   ]
  },
  {
   "cell_type": "code",
   "execution_count": 19,
   "metadata": {},
   "outputs": [
    {
     "data": {
      "text/plain": [
       "date      0\n",
       "group     0\n",
       "visits    0\n",
       "dtype: int64"
      ]
     },
     "execution_count": 19,
     "metadata": {},
     "output_type": "execute_result"
    }
   ],
   "source": [
    "# Check missing values in 'visits_df'\n",
    "visits_missing_values = visits_df.isna().sum()\n",
    "visits_missing_values"
   ]
  },
  {
   "cell_type": "code",
   "execution_count": 20,
   "metadata": {},
   "outputs": [
    {
     "name": "stdout",
     "output_type": "stream",
     "text": [
      "<class 'pandas.core.frame.DataFrame'>\n",
      "RangeIndex: 62 entries, 0 to 61\n",
      "Data columns (total 3 columns):\n",
      " #   Column  Non-Null Count  Dtype         \n",
      "---  ------  --------------  -----         \n",
      " 0   date    62 non-null     datetime64[ns]\n",
      " 1   group   62 non-null     object        \n",
      " 2   visits  62 non-null     int64         \n",
      "dtypes: datetime64[ns](1), int64(1), object(1)\n",
      "memory usage: 1.6+ KB\n"
     ]
    }
   ],
   "source": [
    "# Convert columns to datetime format in 'visits_df'\n",
    "visits_df['date'] = pd.to_datetime(visits_df['date'])\n",
    "visits_df.info()"
   ]
  },
  {
   "cell_type": "markdown",
   "metadata": {},
   "source": [
    "<a id=\"5\"></a> \n",
    "# Part 1 : Prioritizing Hypotheses"
   ]
  },
  {
   "cell_type": "markdown",
   "metadata": {},
   "source": [
    "- The file hypotheses_us.csv contains nine hypotheses on boosting an online store's revenue with Reach, Impact, Confidence, and Effort specified for each.\n",
    "\n",
    "- The task is to:\n",
    "> - Apply the ICE framework to prioritize hypotheses. Sort in descending order of priority.\n",
    "> - Apply the RICE framework to prioritize hypotheses. Sort in descending order of priority.\n",
    "> - Show how the prioritization of hypotheses changes when use RICE instead of ICE. Provide an explanation for the changes."
   ]
  },
  {
   "cell_type": "markdown",
   "metadata": {},
   "source": [
    "<a id=\"6\"></a> \n",
    "## ICE Framework"
   ]
  },
  {
   "cell_type": "markdown",
   "metadata": {},
   "source": [
    "- Apply the ICE framework to prioritize hypotheses. Sort in descending order of priority."
   ]
  },
  {
   "cell_type": "code",
   "execution_count": 21,
   "metadata": {},
   "outputs": [
    {
     "data": {
      "text/html": [
       "<div>\n",
       "<style scoped>\n",
       "    .dataframe tbody tr th:only-of-type {\n",
       "        vertical-align: middle;\n",
       "    }\n",
       "\n",
       "    .dataframe tbody tr th {\n",
       "        vertical-align: top;\n",
       "    }\n",
       "\n",
       "    .dataframe thead th {\n",
       "        text-align: right;\n",
       "    }\n",
       "</style>\n",
       "<table border=\"1\" class=\"dataframe\">\n",
       "  <thead>\n",
       "    <tr style=\"text-align: right;\">\n",
       "      <th></th>\n",
       "      <th>hypothesis</th>\n",
       "      <th>reach</th>\n",
       "      <th>impact</th>\n",
       "      <th>confidence</th>\n",
       "      <th>effort</th>\n",
       "      <th>ice</th>\n",
       "    </tr>\n",
       "  </thead>\n",
       "  <tbody>\n",
       "    <tr>\n",
       "      <th>0</th>\n",
       "      <td>Launch a promotion that gives users discounts on their birthdays</td>\n",
       "      <td>1</td>\n",
       "      <td>9</td>\n",
       "      <td>9</td>\n",
       "      <td>5</td>\n",
       "      <td>16.200000</td>\n",
       "    </tr>\n",
       "    <tr>\n",
       "      <th>1</th>\n",
       "      <td>Add two new channels for attracting traffic. This will bring 30% more users</td>\n",
       "      <td>3</td>\n",
       "      <td>10</td>\n",
       "      <td>8</td>\n",
       "      <td>6</td>\n",
       "      <td>13.333333</td>\n",
       "    </tr>\n",
       "    <tr>\n",
       "      <th>2</th>\n",
       "      <td>Add a subscription form to all the main pages. This will help you compile a mailing list</td>\n",
       "      <td>10</td>\n",
       "      <td>7</td>\n",
       "      <td>8</td>\n",
       "      <td>5</td>\n",
       "      <td>11.200000</td>\n",
       "    </tr>\n",
       "    <tr>\n",
       "      <th>3</th>\n",
       "      <td>Show banners with current offers and sales on the main page. This will boost conversion</td>\n",
       "      <td>5</td>\n",
       "      <td>3</td>\n",
       "      <td>8</td>\n",
       "      <td>3</td>\n",
       "      <td>8.000000</td>\n",
       "    </tr>\n",
       "    <tr>\n",
       "      <th>4</th>\n",
       "      <td>Add product recommendation blocks to the store's site. This will increase conversion and average purchase size</td>\n",
       "      <td>8</td>\n",
       "      <td>3</td>\n",
       "      <td>7</td>\n",
       "      <td>3</td>\n",
       "      <td>7.000000</td>\n",
       "    </tr>\n",
       "    <tr>\n",
       "      <th>5</th>\n",
       "      <td>Launch your own delivery service. This will shorten delivery time</td>\n",
       "      <td>2</td>\n",
       "      <td>5</td>\n",
       "      <td>4</td>\n",
       "      <td>10</td>\n",
       "      <td>2.000000</td>\n",
       "    </tr>\n",
       "    <tr>\n",
       "      <th>6</th>\n",
       "      <td>Add a customer review page. This will increase the number of orders</td>\n",
       "      <td>3</td>\n",
       "      <td>2</td>\n",
       "      <td>2</td>\n",
       "      <td>3</td>\n",
       "      <td>1.333333</td>\n",
       "    </tr>\n",
       "    <tr>\n",
       "      <th>7</th>\n",
       "      <td>Change the category structure. This will increase conversion since users will find the products they want more quickly</td>\n",
       "      <td>8</td>\n",
       "      <td>3</td>\n",
       "      <td>3</td>\n",
       "      <td>8</td>\n",
       "      <td>1.125000</td>\n",
       "    </tr>\n",
       "    <tr>\n",
       "      <th>8</th>\n",
       "      <td>Change the background color on the main page. This will increase user engagement</td>\n",
       "      <td>3</td>\n",
       "      <td>1</td>\n",
       "      <td>1</td>\n",
       "      <td>1</td>\n",
       "      <td>1.000000</td>\n",
       "    </tr>\n",
       "  </tbody>\n",
       "</table>\n",
       "</div>"
      ],
      "text/plain": [
       "                                                                                                               hypothesis  \\\n",
       "0                                                        Launch a promotion that gives users discounts on their birthdays   \n",
       "1                                             Add two new channels for attracting traffic. This will bring 30% more users   \n",
       "2                                Add a subscription form to all the main pages. This will help you compile a mailing list   \n",
       "3                                 Show banners with current offers and sales on the main page. This will boost conversion   \n",
       "4          Add product recommendation blocks to the store's site. This will increase conversion and average purchase size   \n",
       "5                                                       Launch your own delivery service. This will shorten delivery time   \n",
       "6                                                     Add a customer review page. This will increase the number of orders   \n",
       "7  Change the category structure. This will increase conversion since users will find the products they want more quickly   \n",
       "8                                        Change the background color on the main page. This will increase user engagement   \n",
       "\n",
       "   reach  impact  confidence  effort        ice  \n",
       "0      1       9           9       5  16.200000  \n",
       "1      3      10           8       6  13.333333  \n",
       "2     10       7           8       5  11.200000  \n",
       "3      5       3           8       3   8.000000  \n",
       "4      8       3           7       3   7.000000  \n",
       "5      2       5           4      10   2.000000  \n",
       "6      3       2           2       3   1.333333  \n",
       "7      8       3           3       8   1.125000  \n",
       "8      3       1           1       1   1.000000  "
      ]
     },
     "metadata": {},
     "output_type": "display_data"
    }
   ],
   "source": [
    "# Calculate the ICE score\n",
    "hypotheses_df['ice'] = hypotheses_df['impact'] * hypotheses_df['confidence'] / hypotheses_df['effort']\n",
    "\n",
    "# Sort the hypotheses in descending order of priority (ICE score)\n",
    "ice_hypotheses_df = hypotheses_df.sort_values('ice', ascending=False)\n",
    "\n",
    "# Reset the index of the new DataFrame\n",
    "ice_hypotheses_df = ice_hypotheses_df.reset_index(drop=True)\n",
    "\n",
    "# Display the new DataFrame\n",
    "display(ice_hypotheses_df)"
   ]
  },
  {
   "cell_type": "markdown",
   "metadata": {},
   "source": [
    "- Based on ICE hypothesis above, what can be concluded are:\n",
    "\n",
    "> - The idea of launching a promotion offering birthday discounts tops the list with an ICE score of 16.2, indicating its significant potential impact, confidence level, and feasibility. This suggests it should be a primary focus for implementation.\n",
    "\n",
    "> - Following closely is the proposal to introduce two new traffic channels, projected to increase user traffic by 30%, with an ICE score of 13.33. This strategy boasts high confidence and impact, making it another compelling choice for implementation.\n",
    "\n",
    "> - Ranked third is the suggestion to integrate a subscription form across main pages to build a mailing list, scoring 11.2 on the ICE scale. This idea demonstrates substantial reach, impact, and feasibility, making it a valuable candidate for execution.\n",
    "\n",
    "> - Lastly, displaying banners with current offers on the main page, aiming to enhance conversion rates, earns a respectable ICE score of 8.0. While its reach and confidence levels are moderate, its relatively lower effort requirement makes it an attractive option for consideration.\n",
    "\n",
    "- In summary, prioritizing hypotheses based on ICE scores underscores the importance of focusing on launching birthday discount promotions, introducing new traffic channels, and incorporating subscription forms across main pages. These initiatives exhibit considerable potential for driving positive outcomes and merit serious consideration for implementation."
   ]
  },
  {
   "cell_type": "markdown",
   "metadata": {},
   "source": [
    "<a id=\"7\"></a> \n",
    "## RICE Framework"
   ]
  },
  {
   "cell_type": "markdown",
   "metadata": {},
   "source": [
    "- Apply the RICE framework to prioritize hypotheses. Sort in descending order of priority."
   ]
  },
  {
   "cell_type": "code",
   "execution_count": 22,
   "metadata": {},
   "outputs": [
    {
     "data": {
      "text/html": [
       "<div>\n",
       "<style scoped>\n",
       "    .dataframe tbody tr th:only-of-type {\n",
       "        vertical-align: middle;\n",
       "    }\n",
       "\n",
       "    .dataframe tbody tr th {\n",
       "        vertical-align: top;\n",
       "    }\n",
       "\n",
       "    .dataframe thead th {\n",
       "        text-align: right;\n",
       "    }\n",
       "</style>\n",
       "<table border=\"1\" class=\"dataframe\">\n",
       "  <thead>\n",
       "    <tr style=\"text-align: right;\">\n",
       "      <th></th>\n",
       "      <th>hypothesis</th>\n",
       "      <th>reach</th>\n",
       "      <th>impact</th>\n",
       "      <th>confidence</th>\n",
       "      <th>effort</th>\n",
       "      <th>ice</th>\n",
       "      <th>rice</th>\n",
       "    </tr>\n",
       "  </thead>\n",
       "  <tbody>\n",
       "    <tr>\n",
       "      <th>0</th>\n",
       "      <td>Add a subscription form to all the main pages. This will help you compile a mailing list</td>\n",
       "      <td>10</td>\n",
       "      <td>7</td>\n",
       "      <td>8</td>\n",
       "      <td>5</td>\n",
       "      <td>11.200000</td>\n",
       "      <td>112.0</td>\n",
       "    </tr>\n",
       "    <tr>\n",
       "      <th>1</th>\n",
       "      <td>Add product recommendation blocks to the store's site. This will increase conversion and average purchase size</td>\n",
       "      <td>8</td>\n",
       "      <td>3</td>\n",
       "      <td>7</td>\n",
       "      <td>3</td>\n",
       "      <td>7.000000</td>\n",
       "      <td>56.0</td>\n",
       "    </tr>\n",
       "    <tr>\n",
       "      <th>2</th>\n",
       "      <td>Add two new channels for attracting traffic. This will bring 30% more users</td>\n",
       "      <td>3</td>\n",
       "      <td>10</td>\n",
       "      <td>8</td>\n",
       "      <td>6</td>\n",
       "      <td>13.333333</td>\n",
       "      <td>40.0</td>\n",
       "    </tr>\n",
       "    <tr>\n",
       "      <th>3</th>\n",
       "      <td>Show banners with current offers and sales on the main page. This will boost conversion</td>\n",
       "      <td>5</td>\n",
       "      <td>3</td>\n",
       "      <td>8</td>\n",
       "      <td>3</td>\n",
       "      <td>8.000000</td>\n",
       "      <td>40.0</td>\n",
       "    </tr>\n",
       "    <tr>\n",
       "      <th>4</th>\n",
       "      <td>Launch a promotion that gives users discounts on their birthdays</td>\n",
       "      <td>1</td>\n",
       "      <td>9</td>\n",
       "      <td>9</td>\n",
       "      <td>5</td>\n",
       "      <td>16.200000</td>\n",
       "      <td>16.2</td>\n",
       "    </tr>\n",
       "    <tr>\n",
       "      <th>5</th>\n",
       "      <td>Change the category structure. This will increase conversion since users will find the products they want more quickly</td>\n",
       "      <td>8</td>\n",
       "      <td>3</td>\n",
       "      <td>3</td>\n",
       "      <td>8</td>\n",
       "      <td>1.125000</td>\n",
       "      <td>9.0</td>\n",
       "    </tr>\n",
       "    <tr>\n",
       "      <th>6</th>\n",
       "      <td>Launch your own delivery service. This will shorten delivery time</td>\n",
       "      <td>2</td>\n",
       "      <td>5</td>\n",
       "      <td>4</td>\n",
       "      <td>10</td>\n",
       "      <td>2.000000</td>\n",
       "      <td>4.0</td>\n",
       "    </tr>\n",
       "    <tr>\n",
       "      <th>7</th>\n",
       "      <td>Add a customer review page. This will increase the number of orders</td>\n",
       "      <td>3</td>\n",
       "      <td>2</td>\n",
       "      <td>2</td>\n",
       "      <td>3</td>\n",
       "      <td>1.333333</td>\n",
       "      <td>4.0</td>\n",
       "    </tr>\n",
       "    <tr>\n",
       "      <th>8</th>\n",
       "      <td>Change the background color on the main page. This will increase user engagement</td>\n",
       "      <td>3</td>\n",
       "      <td>1</td>\n",
       "      <td>1</td>\n",
       "      <td>1</td>\n",
       "      <td>1.000000</td>\n",
       "      <td>3.0</td>\n",
       "    </tr>\n",
       "  </tbody>\n",
       "</table>\n",
       "</div>"
      ],
      "text/plain": [
       "                                                                                                               hypothesis  \\\n",
       "0                                Add a subscription form to all the main pages. This will help you compile a mailing list   \n",
       "1          Add product recommendation blocks to the store's site. This will increase conversion and average purchase size   \n",
       "2                                             Add two new channels for attracting traffic. This will bring 30% more users   \n",
       "3                                 Show banners with current offers and sales on the main page. This will boost conversion   \n",
       "4                                                        Launch a promotion that gives users discounts on their birthdays   \n",
       "5  Change the category structure. This will increase conversion since users will find the products they want more quickly   \n",
       "6                                                       Launch your own delivery service. This will shorten delivery time   \n",
       "7                                                     Add a customer review page. This will increase the number of orders   \n",
       "8                                        Change the background color on the main page. This will increase user engagement   \n",
       "\n",
       "   reach  impact  confidence  effort        ice   rice  \n",
       "0     10       7           8       5  11.200000  112.0  \n",
       "1      8       3           7       3   7.000000   56.0  \n",
       "2      3      10           8       6  13.333333   40.0  \n",
       "3      5       3           8       3   8.000000   40.0  \n",
       "4      1       9           9       5  16.200000   16.2  \n",
       "5      8       3           3       8   1.125000    9.0  \n",
       "6      2       5           4      10   2.000000    4.0  \n",
       "7      3       2           2       3   1.333333    4.0  \n",
       "8      3       1           1       1   1.000000    3.0  "
      ]
     },
     "metadata": {},
     "output_type": "display_data"
    }
   ],
   "source": [
    "# Calculate the RICE score\n",
    "hypotheses_df['rice'] = hypotheses_df['reach'] * hypotheses_df['impact'] * hypotheses_df['confidence'] / hypotheses_df['effort']\n",
    "\n",
    "# Sort the hypotheses in descending order of priority (RICE score)\n",
    "rice_hypotheses_df = hypotheses_df.sort_values('rice', ascending=False)\n",
    "\n",
    "# Reset the index of the new DataFrame\n",
    "rice_hypotheses_df = rice_hypotheses_df.reset_index(drop=True)\n",
    "\n",
    "# Display the new DataFrame\n",
    "display(rice_hypotheses_df)"
   ]
  },
  {
   "cell_type": "markdown",
   "metadata": {},
   "source": [
    "- Based on RICE hypothesis above, what can be concluded are:\n",
    "\n",
    "> - The suggestion to integrate a subscription form across all main pages takes the lead with an impressive RICE score of 112.0. This proposal not only promises a broad reach and significant impact but also boasts high confidence levels, all while requiring only a moderate effort. It stands out as the most compelling option for immediate implementation.\n",
    "\n",
    "> - Following closely is the idea of incorporating product recommendation blocks on the store's site, scoring 56.0 on the RICE scale. With its high reach and confidence levels coupled with relatively lower effort requirements, this strategy presents an attractive opportunity to boost conversion rates and increase average purchase sizes.\n",
    "\n",
    "> - Both the proposals to introduce two new traffic channels and to display banners with current offers on the main page share a RICE score of 40.0. These concepts strike a balance between reach, impact, confidence, and effort, positioning them as important considerations for implementation.\n",
    "\n",
    "> - Lastly, the notion of launching a promotion offering birthday discounts garners a RICE score of 16.2. Despite its lower reach, this strategy holds significant potential impact and confidence levels, making it a viable option for implementation.\n",
    "\n",
    "- In summary, prioritizing hypotheses based on RICE scores underscores the importance of integrating a subscription form across main pages as the top priority, followed by implementing product recommendation blocks, new traffic channels, and banners with offers and sales. These strategies demonstrate substantial potential for audience reach, impact, and confidence, with varying levels of effort required. Other hypotheses with lower RICE scores should be carefully evaluated based on their specific objectives and available resources before considering implementation."
   ]
  },
  {
   "cell_type": "markdown",
   "metadata": {},
   "source": [
    "<a id=\"8\"></a> \n",
    "## Prioritization of hypotheses changes"
   ]
  },
  {
   "cell_type": "markdown",
   "metadata": {},
   "source": [
    "- The RICE framework shifts the focus towards evaluating the potential reach of each hypothesis, leading to a different prioritization compared to the ICE framework. By emphasizing the ability to reach a wider audience, RICE helps pinpoint hypotheses that could make a substantial impact on the business. Visualizing this shift through a histogram can illustrate the significance of considering reach in the decision-making process."
   ]
  },
  {
   "cell_type": "code",
   "execution_count": 23,
   "metadata": {},
   "outputs": [
    {
     "data": {
      "image/png": "[encoded data removed]",
      "text/plain": [
       "<Figure size 1000x1200 with 1 Axes>"
      ]
     },
     "metadata": {},
     "output_type": "display_data"
    }
   ],
   "source": [
    "# Datasets for ICE and RICE\n",
    "ice_scores = [16.2, 13.333333, 11.2, 8, 7, 2, 1.333333, 1.125, 1]\n",
    "rice_scores = [112, 56, 40, 40, 16.2, 9, 4, 4, 3]\n",
    "\n",
    "# Plotting\n",
    "labels = ['Promotion Discounts on Birthdays', 'Channels for Traffic', 'Subscription Form', 'Banners with Offers', 'Product Recommendations', 'Delivery Service', 'Customer Review Page', 'Change Category Structure', 'Background Color']\n",
    "y = range(len(labels))\n",
    "\n",
    "plt.figure(figsize=(10, 12))\n",
    "plt.barh(y, ice_scores, height=0.4, label='ICE', align='center', alpha=0.5)\n",
    "plt.barh(y, rice_scores, height=0.4, label='RICE', align='edge', alpha=0.5)\n",
    "\n",
    "plt.ylabel('Hypotheses')\n",
    "plt.xlabel('Score')\n",
    "plt.title('Prioritization of Hypotheses - ICE vs RICE')\n",
    "plt.yticks(y, labels)\n",
    "plt.legend()\n",
    "\n",
    "plt.tight_layout()\n",
    "plt.show()"
   ]
  },
  {
   "cell_type": "markdown",
   "metadata": {},
   "source": [
    "- When comparing the prioritization under RICE versus ICE, we observe a notable shift driven primarily by the inclusion of the \"reach\" factor in the RICE framework. Reach signifies the potential audience affected by each hypothesis.\n",
    "\n",
    "- While ICE prioritizes hypotheses based on impact and confidence, regardless of reach, RICE takes into account a combination of impact, confidence, and reach to assign scores and determine priority.\n",
    "\n",
    "- In the RICE framework, the hypothesis \"Adding a subscription form to all main pages\" emerges as the top priority due to its extensive reach, crucial for building a mailing list. Similarly, \"Adding product recommendation blocks to the store's site\" gains prominence for its relatively high reach.\n",
    "\n",
    "- Conversely, \"Launching a promotion that offers users birthday discounts\" descends to fifth place in the RICE prioritization. Despite its considerable impact and confidence, its lower reach compared to other hypotheses affects its ranking."
   ]
  },
  {
   "cell_type": "markdown",
   "metadata": {},
   "source": [
    "<a id=\"9\"></a> \n",
    "# Part 2: A/B Test Analysis"
   ]
  },
  {
   "cell_type": "markdown",
   "metadata": {},
   "source": [
    "- To address the challenge of visitors being categorized into both group A and group B, the following steps are necessary:\n",
    "\n",
    "> - Step1: Identify visitorid values assigned to both groups A and B. This involves finding visitorid values associated with more than one unique group.\n",
    "> - Step2: Determine the group for each visitorid based on their initial order date.\n",
    "> - Step3: Eliminate order records from the group not selected for each visitorid.\n",
    "> - Step4: Retain order records from the group selected for each visitorid."
   ]
  },
  {
   "cell_type": "code",
   "execution_count": 24,
   "metadata": {},
   "outputs": [],
   "source": [
    "#Step1\n",
    "visitor_groups = orders_df.groupby('visitor_id')['group'].nunique()\n",
    "visitors_in_both_groups = visitor_groups[visitor_groups > 1].index"
   ]
  },
  {
   "cell_type": "code",
   "execution_count": 25,
   "metadata": {},
   "outputs": [],
   "source": [
    "#Step2\n",
    "first_order_date = orders_df.groupby('visitor_id')['date'].min().reset_index()\n",
    "visitors_group = orders_df.merge(first_order_date, on=['visitor_id', 'date'], how='left')"
   ]
  },
  {
   "cell_type": "code",
   "execution_count": 26,
   "metadata": {},
   "outputs": [],
   "source": [
    "#Step3\n",
    "visitors_group = visitors_group.drop_duplicates(subset=['visitor_id', 'group'])"
   ]
  },
  {
   "cell_type": "code",
   "execution_count": 27,
   "metadata": {},
   "outputs": [
    {
     "name": "stdout",
     "output_type": "stream",
     "text": [
      "<class 'pandas.core.frame.DataFrame'>\n",
      "Int64Index: 1089 entries, 0 to 1196\n",
      "Data columns (total 5 columns):\n",
      " #   Column          Non-Null Count  Dtype         \n",
      "---  ------          --------------  -----         \n",
      " 0   transaction_id  1089 non-null   int64         \n",
      " 1   visitor_id      1089 non-null   int64         \n",
      " 2   date            1089 non-null   datetime64[ns]\n",
      " 3   revenue         1089 non-null   float64       \n",
      " 4   group           1089 non-null   object        \n",
      "dtypes: datetime64[ns](1), float64(1), int64(2), object(1)\n",
      "memory usage: 51.0+ KB\n"
     ]
    },
    {
     "data": {
      "text/html": [
       "<div>\n",
       "<style scoped>\n",
       "    .dataframe tbody tr th:only-of-type {\n",
       "        vertical-align: middle;\n",
       "    }\n",
       "\n",
       "    .dataframe tbody tr th {\n",
       "        vertical-align: top;\n",
       "    }\n",
       "\n",
       "    .dataframe thead th {\n",
       "        text-align: right;\n",
       "    }\n",
       "</style>\n",
       "<table border=\"1\" class=\"dataframe\">\n",
       "  <thead>\n",
       "    <tr style=\"text-align: right;\">\n",
       "      <th></th>\n",
       "      <th>transaction_id</th>\n",
       "      <th>visitor_id</th>\n",
       "      <th>date</th>\n",
       "      <th>revenue</th>\n",
       "      <th>group</th>\n",
       "    </tr>\n",
       "  </thead>\n",
       "  <tbody>\n",
       "    <tr>\n",
       "      <th>0</th>\n",
       "      <td>3667963787</td>\n",
       "      <td>3312258926</td>\n",
       "      <td>2019-08-15</td>\n",
       "      <td>30.4</td>\n",
       "      <td>B</td>\n",
       "    </tr>\n",
       "    <tr>\n",
       "      <th>1</th>\n",
       "      <td>2804400009</td>\n",
       "      <td>3642806036</td>\n",
       "      <td>2019-08-15</td>\n",
       "      <td>15.2</td>\n",
       "      <td>B</td>\n",
       "    </tr>\n",
       "    <tr>\n",
       "      <th>2</th>\n",
       "      <td>2961555356</td>\n",
       "      <td>4069496402</td>\n",
       "      <td>2019-08-15</td>\n",
       "      <td>10.2</td>\n",
       "      <td>A</td>\n",
       "    </tr>\n",
       "    <tr>\n",
       "      <th>3</th>\n",
       "      <td>3797467345</td>\n",
       "      <td>1196621759</td>\n",
       "      <td>2019-08-15</td>\n",
       "      <td>155.1</td>\n",
       "      <td>B</td>\n",
       "    </tr>\n",
       "    <tr>\n",
       "      <th>4</th>\n",
       "      <td>2282983706</td>\n",
       "      <td>2322279887</td>\n",
       "      <td>2019-08-15</td>\n",
       "      <td>40.5</td>\n",
       "      <td>B</td>\n",
       "    </tr>\n",
       "    <tr>\n",
       "      <th>5</th>\n",
       "      <td>182168103</td>\n",
       "      <td>935554773</td>\n",
       "      <td>2019-08-15</td>\n",
       "      <td>35.0</td>\n",
       "      <td>B</td>\n",
       "    </tr>\n",
       "    <tr>\n",
       "      <th>6</th>\n",
       "      <td>398296753</td>\n",
       "      <td>2900797465</td>\n",
       "      <td>2019-08-15</td>\n",
       "      <td>30.6</td>\n",
       "      <td>B</td>\n",
       "    </tr>\n",
       "    <tr>\n",
       "      <th>7</th>\n",
       "      <td>2626614568</td>\n",
       "      <td>78758296</td>\n",
       "      <td>2019-08-15</td>\n",
       "      <td>20.1</td>\n",
       "      <td>A</td>\n",
       "    </tr>\n",
       "    <tr>\n",
       "      <th>8</th>\n",
       "      <td>1576988021</td>\n",
       "      <td>295230930</td>\n",
       "      <td>2019-08-15</td>\n",
       "      <td>215.9</td>\n",
       "      <td>A</td>\n",
       "    </tr>\n",
       "    <tr>\n",
       "      <th>9</th>\n",
       "      <td>1506739906</td>\n",
       "      <td>1882260405</td>\n",
       "      <td>2019-08-15</td>\n",
       "      <td>30.5</td>\n",
       "      <td>B</td>\n",
       "    </tr>\n",
       "  </tbody>\n",
       "</table>\n",
       "</div>"
      ],
      "text/plain": [
       "   transaction_id  visitor_id       date  revenue group\n",
       "0      3667963787  3312258926 2019-08-15     30.4     B\n",
       "1      2804400009  3642806036 2019-08-15     15.2     B\n",
       "2      2961555356  4069496402 2019-08-15     10.2     A\n",
       "3      3797467345  1196621759 2019-08-15    155.1     B\n",
       "4      2282983706  2322279887 2019-08-15     40.5     B\n",
       "5       182168103   935554773 2019-08-15     35.0     B\n",
       "6       398296753  2900797465 2019-08-15     30.6     B\n",
       "7      2626614568    78758296 2019-08-15     20.1     A\n",
       "8      1576988021   295230930 2019-08-15    215.9     A\n",
       "9      1506739906  1882260405 2019-08-15     30.5     B"
      ]
     },
     "execution_count": 27,
     "metadata": {},
     "output_type": "execute_result"
    }
   ],
   "source": [
    "#Step4\n",
    "visitors_group = visitors_group[['transaction_id', 'visitor_id', 'date', 'revenue', 'group']]\n",
    "visitors_group.info()\n",
    "visitors_group.head(10)"
   ]
  },
  {
   "cell_type": "markdown",
   "metadata": {},
   "source": [
    "<a id=\"10\"></a> \n",
    "## Cumulative revenue by group"
   ]
  },
  {
   "cell_type": "markdown",
   "metadata": {},
   "source": [
    "- To assess the A/B test, our approach involves computing the cumulative revenue for each group, followed by visualizing the outcomes through a graph. Here's the breakdown of our analysis:\n",
    "\n",
    "> - Step1: Compute the cumulative revenue for both groups.\n",
    "> - Step2: Generate a graph representing the cumulative revenue data."
   ]
  },
  {
   "cell_type": "code",
   "execution_count": 28,
   "metadata": {},
   "outputs": [],
   "source": [
    "#Step1\n",
    "# Calculate cumulative revenue for group A\n",
    "cumulative_revenue_A = (\n",
    "    visitors_group[visitors_group['group'] == 'A']\n",
    "    .groupby('date')['revenue']\n",
    "    .sum()\n",
    "    .cumsum()\n",
    ")\n",
    "\n",
    "# Calculate cumulative revenue for group B\n",
    "cumulative_revenue_B = (\n",
    "    visitors_group[visitors_group['group'] == 'B']\n",
    "    .groupby('date')['revenue']\n",
    "    .sum()\n",
    "    .cumsum()\n",
    ")"
   ]
  },
  {
   "cell_type": "code",
   "execution_count": 29,
   "metadata": {},
   "outputs": [
    {
     "data": {
      "image/png": "[encoded data removed]",
      "text/plain": [
       "<Figure size 640x480 with 1 Axes>"
      ]
     },
     "metadata": {},
     "output_type": "display_data"
    }
   ],
   "source": [
    "#Step2\n",
    "# Plot the cumulative revenue graph\n",
    "plt.plot(cumulative_revenue_A.index, cumulative_revenue_A, label='Group A')\n",
    "plt.plot(cumulative_revenue_B.index, cumulative_revenue_B, label='Group B')\n",
    "\n",
    "# Rotate the date labels on the x-axis of 45 degree\n",
    "plt.xticks(rotation=45)\n",
    "\n",
    "# Set the axis labels and title\n",
    "plt.xlabel('Date')\n",
    "plt.ylabel('Cumulative Revenue')\n",
    "plt.title('Cumulative Revenue by Group')\n",
    "\n",
    "plt.legend()\n",
    "plt.show()"
   ]
  },
  {
   "cell_type": "markdown",
   "metadata": {},
   "source": [
    "- Cumulative Revenue Trend: Both Group A and Group B exhibit a consistent upward trend in cumulative revenue over time, indicating sustained revenue growth throughout the observed period for both groups.\n",
    "\n",
    "> - Revenue Disparity: Group B consistently outperforms Group A in terms of cumulative revenue, demonstrating a persistent discrepancy from the early dates onwards.\n",
    "\n",
    "> - Revenue Surge: Notably, on August 19th, there is a remarkable surge in cumulative revenue for Group A, surpassing that of Group B. This spike suggests a potential positive impact stemming from the experimental adjustments implemented in Group A.\n",
    "\n",
    "> - Stable Revenue Gap: Following the August 19th spike, the revenue gap between Group A and Group B becomes more pronounced and remains relatively stable. This indicates a lasting positive effect from the experimental changes in Group A.\n",
    "\n",
    "> - Revenue Stagnation: Towards the end of the observed period, both groups show signs of revenue plateauing, with limited growth or fluctuations. This suggests a potential saturation point or a stable performance level for the tested alterations."
   ]
  },
  {
   "cell_type": "markdown",
   "metadata": {},
   "source": [
    "<a id=\"11\"></a> \n",
    "## Cumulative average order size by group"
   ]
  },
  {
   "cell_type": "markdown",
   "metadata": {},
   "source": [
    "> - Step1: Compute the cumulative revenue and cumulative number of orders for each group. \n",
    "> - Step2: Calculate the cumulative average order size for each group. \n",
    "> - Step3: Visualize the cumulative average order size through a graph."
   ]
  },
  {
   "cell_type": "code",
   "execution_count": 30,
   "metadata": {},
   "outputs": [],
   "source": [
    "# Step1\n",
    "# Calculate cumulative revenue and cumulative number of orders for group A\n",
    "cumulative_revenue_A = (\n",
    "    visitors_group[visitors_group['group'] == 'A']\n",
    "    .groupby('date')['revenue']\n",
    "    .sum()\n",
    "    .cumsum()\n",
    ")\n",
    "\n",
    "cumulative_orders_A = (\n",
    "    visitors_group[visitors_group['group'] == 'A']\n",
    "    .groupby('date')['transaction_id']\n",
    "    .count()\n",
    "    .cumsum()\n",
    ")\n",
    "\n",
    "# Calculate cumulative revenue and cumulative number of orders for group B\n",
    "cumulative_revenue_B = (\n",
    "    visitors_group[visitors_group['group'] == 'B']\n",
    "    .groupby('date')['revenue']\n",
    "    .sum()\n",
    "    .cumsum()\n",
    ")\n",
    "\n",
    "cumulative_orders_B = (\n",
    "    visitors_group[visitors_group['group'] == 'B']\n",
    "    .groupby('date')['transaction_id']\n",
    "    .count()\n",
    "    .cumsum()\n",
    ")"
   ]
  },
  {
   "cell_type": "code",
   "execution_count": 31,
   "metadata": {},
   "outputs": [],
   "source": [
    "# Step2\n",
    "# Calculate cumulative average order size for group A\n",
    "cumulative_avg_order_size_A = cumulative_revenue_A / cumulative_orders_A\n",
    "\n",
    "# Calculate cumulative average order size for group B\n",
    "cumulative_avg_order_size_B = cumulative_revenue_B / cumulative_orders_B"
   ]
  },
  {
   "cell_type": "code",
   "execution_count": 32,
   "metadata": {},
   "outputs": [
    {
     "data": {
      "image/png": "[encoded data removed]",
      "text/plain": [
       "<Figure size 640x480 with 1 Axes>"
      ]
     },
     "metadata": {},
     "output_type": "display_data"
    }
   ],
   "source": [
    "# Step3\n",
    "# Plot the cumulative average order size graph\n",
    "plt.plot(cumulative_avg_order_size_A.index, cumulative_avg_order_size_A, label='Group A')\n",
    "plt.plot(cumulative_avg_order_size_B.index, cumulative_avg_order_size_B, label='Group B')\n",
    "\n",
    "# Rotate the date labels on the x-axis for 45 degree\n",
    "plt.xticks(rotation=45)\n",
    "\n",
    "# Set the axis labels and title\n",
    "plt.xlabel('Date')\n",
    "plt.ylabel('Cumulative Average Order Size')\n",
    "plt.title('Cumulative Average Order Size by Group')\n",
    "\n",
    "plt.legend()\n",
    "plt.show()"
   ]
  },
  {
   "cell_type": "markdown",
   "metadata": {},
   "source": [
    "> - Both Group A and Group B demonstrate a consistent and stable average order size over the duration of observation, indicating a sustained pattern in purchasing behavior for both groups.\n",
    "\n",
    "> - The performance of both groups remains consistent throughout the analyzed period, suggesting that any experimental changes introduced to Group A did not markedly influence average order size when compared to Group B.\n",
    "\n",
    "> - The cumulative average order size for both groups exhibits minimal divergence, indicating a comparable performance between Group A and Group B. This suggests that the experimental adjustments in Group A did not result in significant deviations in average order size compared to the control group (Group B).\n",
    "\n",
    "> - While the cumulative average order size offers valuable insights into group performance, further statistical analyses such as hypothesis testing are necessary to ascertain the statistical significance of any observed disparities between the groups."
   ]
  },
  {
   "cell_type": "markdown",
   "metadata": {},
   "source": [
    "<a id=\"12\"></a> \n",
    "## Relative difference in cumulative average order size"
   ]
  },
  {
   "cell_type": "markdown",
   "metadata": {},
   "source": [
    "- Step1 :Begin by computing the cumulative average order size for both Group A and Group B using pandas.\n",
    "- Step2 :Subtract the cumulative average order size of Group A from that of Group B.\n",
    "- Step3 :Divide the result by the cumulative average order size of Group A.\n",
    "- Step4 :Multiply the quotient by 100 to express the difference as a percentage.\n",
    "- Step5 :Finally, visualize the cumulative average order size for both Group A and Group B through a graph."
   ]
  },
  {
   "cell_type": "code",
   "execution_count": 33,
   "metadata": {},
   "outputs": [
    {
     "name": "stdout",
     "output_type": "stream",
     "text": [
      "Relative Difference in Cumulative Average Order Size (Group B vs Group A): 25.17%\n"
     ]
    }
   ],
   "source": [
    "#Step 1\n",
    "# Calculate the cumulative average order size for each group\n",
    "cumulative_avg_order_size_group_a = orders_df[orders_df['group'] == 'A']['revenue'].cumsum() / (np.arange(len(orders_df[orders_df['group'] == 'A'])) + 1)\n",
    "cumulative_avg_order_size_group_b = orders_df[orders_df['group'] == 'B']['revenue'].cumsum() / (np.arange(len(orders_df[orders_df['group'] == 'B'])) + 1)\n",
    "\n",
    "#Step2-4|\n",
    "# Calculate the relative difference in cumulative average order size\n",
    "relative_difference = ((cumulative_avg_order_size_group_b.iloc[-1] - cumulative_avg_order_size_group_a.iloc[-1]) / cumulative_avg_order_size_group_a.iloc[-1]) * 100\n",
    "\n",
    "# Print the relative difference\n",
    "print(\"Relative Difference in Cumulative Average Order Size (Group B vs Group A): {:.2f}%\".format(relative_difference))"
   ]
  },
  {
   "cell_type": "code",
   "execution_count": 34,
   "metadata": {},
   "outputs": [
    {
     "data": {
      "image/png": "[encoded data removed]",
      "text/plain": [
       "<Figure size 640x480 with 1 Axes>"
      ]
     },
     "metadata": {},
     "output_type": "display_data"
    }
   ],
   "source": [
    "# Step5\n",
    "# Calculate the cumulative average order size for each group\n",
    "cumulative_avg_order_size_group_a = orders_df[orders_df['group'] == 'A']['revenue'].cumsum() / (np.arange(len(orders_df[orders_df['group'] == 'A'])) + 1)\n",
    "cumulative_avg_order_size_group_b = orders_df[orders_df['group'] == 'B']['revenue'].cumsum() / (np.arange(len(orders_df[orders_df['group'] == 'B'])) + 1)\n",
    "\n",
    "# Plot the cumulative average order size for Group A\n",
    "plt.plot(cumulative_avg_order_size_group_a, label='Group A')\n",
    "\n",
    "# Plot the cumulative average order size for Group B\n",
    "plt.plot(cumulative_avg_order_size_group_b, label='Group B')\n",
    "\n",
    "plt.xlabel('Date')\n",
    "plt.ylabel('Cumulative Average Order Size')\n",
    "plt.title('Cumulative Average Order Size by Group')\n",
    "\n",
    "plt.legend()\n",
    "plt.show()"
   ]
  },
  {
   "cell_type": "markdown",
   "metadata": {},
   "source": [
    "- Based on the examination of the relative disparity in cumulative average order size:\n",
    "\n",
    "> - Initially, Group B exhibited a higher cumulative average order size compared to Group A, implying that customers in Group B tended to place larger orders than those in Group A during the early stages of the observation period.\n",
    "\n",
    "> - As time progressed, the relative difference in cumulative average order size fluctuated. At times, Group B's cumulative average order size exceeded that of Group A, indicating higher transaction values. Conversely, there were also instances where Group B's cumulative average order size lagged behind that of Group A, suggesting smaller transaction values.\n",
    "\n",
    "> - Throughout the analysis duration, the relative difference in cumulative average order size displayed variability, reflecting shifting purchasing patterns between the two groups. These disparities could be influenced by a range of factors, including promotional initiatives, marketing tactics, or customer preferences."
   ]
  },
  {
   "cell_type": "markdown",
   "metadata": {},
   "source": [
    "<a id=\"13\"></a> \n",
    "## Calculation for each group's conversion rate"
   ]
  },
  {
   "cell_type": "markdown",
   "metadata": {},
   "source": [
    "1. Calculate each group's conversion rate as the ratio of orders to the number of visits for each day. \n",
    "2. Plot the daily conversion rates of the two groups and describe the difference. \n",
    "3. Draw conclusions and make conjectures."
   ]
  },
  {
   "cell_type": "code",
   "execution_count": 35,
   "metadata": {},
   "outputs": [
    {
     "data": {
      "text/html": [
       "<div>\n",
       "<style scoped>\n",
       "    .dataframe tbody tr th:only-of-type {\n",
       "        vertical-align: middle;\n",
       "    }\n",
       "\n",
       "    .dataframe tbody tr th {\n",
       "        vertical-align: top;\n",
       "    }\n",
       "\n",
       "    .dataframe thead th {\n",
       "        text-align: right;\n",
       "    }\n",
       "</style>\n",
       "<table border=\"1\" class=\"dataframe\">\n",
       "  <thead>\n",
       "    <tr style=\"text-align: right;\">\n",
       "      <th></th>\n",
       "      <th>date</th>\n",
       "      <th>group</th>\n",
       "      <th>transaction_id</th>\n",
       "      <th>visits</th>\n",
       "      <th>conversion_rate</th>\n",
       "    </tr>\n",
       "  </thead>\n",
       "  <tbody>\n",
       "    <tr>\n",
       "      <th>0</th>\n",
       "      <td>2019-08-01</td>\n",
       "      <td>A</td>\n",
       "      <td>24</td>\n",
       "      <td>719</td>\n",
       "      <td>0.033380</td>\n",
       "    </tr>\n",
       "    <tr>\n",
       "      <th>1</th>\n",
       "      <td>2019-08-01</td>\n",
       "      <td>B</td>\n",
       "      <td>21</td>\n",
       "      <td>713</td>\n",
       "      <td>0.029453</td>\n",
       "    </tr>\n",
       "    <tr>\n",
       "      <th>2</th>\n",
       "      <td>2019-08-02</td>\n",
       "      <td>A</td>\n",
       "      <td>20</td>\n",
       "      <td>619</td>\n",
       "      <td>0.032310</td>\n",
       "    </tr>\n",
       "    <tr>\n",
       "      <th>3</th>\n",
       "      <td>2019-08-02</td>\n",
       "      <td>B</td>\n",
       "      <td>24</td>\n",
       "      <td>581</td>\n",
       "      <td>0.041308</td>\n",
       "    </tr>\n",
       "    <tr>\n",
       "      <th>4</th>\n",
       "      <td>2019-08-03</td>\n",
       "      <td>A</td>\n",
       "      <td>24</td>\n",
       "      <td>507</td>\n",
       "      <td>0.047337</td>\n",
       "    </tr>\n",
       "    <tr>\n",
       "      <th>...</th>\n",
       "      <td>...</td>\n",
       "      <td>...</td>\n",
       "      <td>...</td>\n",
       "      <td>...</td>\n",
       "      <td>...</td>\n",
       "    </tr>\n",
       "    <tr>\n",
       "      <th>57</th>\n",
       "      <td>2019-08-29</td>\n",
       "      <td>B</td>\n",
       "      <td>20</td>\n",
       "      <td>531</td>\n",
       "      <td>0.037665</td>\n",
       "    </tr>\n",
       "    <tr>\n",
       "      <th>58</th>\n",
       "      <td>2019-08-30</td>\n",
       "      <td>A</td>\n",
       "      <td>11</td>\n",
       "      <td>490</td>\n",
       "      <td>0.022449</td>\n",
       "    </tr>\n",
       "    <tr>\n",
       "      <th>59</th>\n",
       "      <td>2019-08-30</td>\n",
       "      <td>B</td>\n",
       "      <td>24</td>\n",
       "      <td>490</td>\n",
       "      <td>0.048980</td>\n",
       "    </tr>\n",
       "    <tr>\n",
       "      <th>60</th>\n",
       "      <td>2019-08-31</td>\n",
       "      <td>A</td>\n",
       "      <td>12</td>\n",
       "      <td>699</td>\n",
       "      <td>0.017167</td>\n",
       "    </tr>\n",
       "    <tr>\n",
       "      <th>61</th>\n",
       "      <td>2019-08-31</td>\n",
       "      <td>B</td>\n",
       "      <td>20</td>\n",
       "      <td>718</td>\n",
       "      <td>0.027855</td>\n",
       "    </tr>\n",
       "  </tbody>\n",
       "</table>\n",
       "<p>62 rows × 5 columns</p>\n",
       "</div>"
      ],
      "text/plain": [
       "         date group  transaction_id  visits  conversion_rate\n",
       "0  2019-08-01     A              24     719         0.033380\n",
       "1  2019-08-01     B              21     713         0.029453\n",
       "2  2019-08-02     A              20     619         0.032310\n",
       "3  2019-08-02     B              24     581         0.041308\n",
       "4  2019-08-03     A              24     507         0.047337\n",
       "..        ...   ...             ...     ...              ...\n",
       "57 2019-08-29     B              20     531         0.037665\n",
       "58 2019-08-30     A              11     490         0.022449\n",
       "59 2019-08-30     B              24     490         0.048980\n",
       "60 2019-08-31     A              12     699         0.017167\n",
       "61 2019-08-31     B              20     718         0.027855\n",
       "\n",
       "[62 rows x 5 columns]"
      ]
     },
     "execution_count": 35,
     "metadata": {},
     "output_type": "execute_result"
    }
   ],
   "source": [
    "# Group the orders_df DataFrame by date and group, and count the number of orders for each group on each day:\n",
    "orders_per_day_group = orders_df.groupby(['date', 'group'])['transaction_id'].count().reset_index()\n",
    "\n",
    "# Group the visits_df DataFrame by date and group, and sum the number of visits for each group on each day:\n",
    "visits_per_day_group = visits_df.groupby(['date', 'group'])['visits'].sum().reset_index()\n",
    "\n",
    "# Merge the two grouped DataFrames on date and group to combine the order and visit information for each day and group:\n",
    "conversion_df = pd.merge(orders_per_day_group, visits_per_day_group, on=['date', 'group'])\n",
    "\n",
    "# Calculate the conversion rate as the ratio of orders to visits:\n",
    "conversion_df['conversion_rate'] = conversion_df['transaction_id'] / conversion_df['visits']\n",
    "conversion_df"
   ]
  },
  {
   "cell_type": "code",
   "execution_count": 36,
   "metadata": {},
   "outputs": [
    {
     "data": {
      "image/png": "[encoded data removed]",
      "text/plain": [
       "<Figure size 640x480 with 1 Axes>"
      ]
     },
     "metadata": {},
     "output_type": "display_data"
    }
   ],
   "source": [
    "# Filter the conversion_df DataFrame for each group\n",
    "group_a_conversion = conversion_df[conversion_df['group'] == 'A']\n",
    "group_b_conversion = conversion_df[conversion_df['group'] == 'B']\n",
    "\n",
    "# Plotting the daily conversion rates for Group A\n",
    "plt.plot(group_a_conversion['date'], group_a_conversion['conversion_rate'], marker='o', label='Group A')\n",
    "\n",
    "# Plotting the daily conversion rates for Group B\n",
    "plt.plot(group_b_conversion['date'], group_b_conversion['conversion_rate'], marker='o', label='Group B')\n",
    "\n",
    "plt.xlabel('Date')\n",
    "plt.ylabel('Conversion Rate')\n",
    "plt.title('Daily Conversion Rates by Group')\n",
    "plt.legend()\n",
    "\n",
    "plt.xticks(rotation=45)\n",
    "\n",
    "plt.show()"
   ]
  },
  {
   "cell_type": "markdown",
   "metadata": {},
   "source": [
    "1) Description of Daily Conversion Rates:\n",
    "\n",
    "> - Variability: Both Group A and Group B exhibit significant fluctuations in their daily conversion rates. However, Group B generally displays higher peaks compared to Group A, suggesting moments of greater efficiency in converting visits into orders.\n",
    "\n",
    "> - Comparison: Throughout most of the observed period, Group B consistently shows a higher conversion rate than Group A. Notably, there are several spikes where Group B's conversion rate substantially exceeds that of Group A, particularly in the latter half of the period.\n",
    "\n",
    "> - Trend: While both groups display a volatile trend, there is a noticeable dip towards the end of the period for Group A, where its conversion rate drops significantly. Group B, while also showing a decline, seems to maintain a slightly steadier rate in the later dates.\n",
    "\n",
    "2) Conclusions and Conjectures:\n",
    "\n",
    "> - Group B's Performance: The higher peaks in Group B's conversion rates suggest that either the changes implemented in this group are more effective at driving purchases, or it could be benefiting from other variables such as more effective marketing campaigns, better website functionality, or more appealing product offerings during these periods.\n",
    "\n",
    "> - Inconsistencies in Conversion: The significant fluctuations for both groups could indicate varying factors influencing the conversion rates daily, such as day of the week, promotions, external market conditions, or changes in user behavior.\n",
    "\n",
    "> - Potential Saturation or Technical Issues: The decline in conversion rates towards the end of the period for both groups might suggest market saturation, fatigue of offers, or perhaps technical issues on the website affecting user experience and purchase behavior.\n",
    "\n",
    "> - Further Investigation: It would be prudent to investigate what specific actions were taken on days where spikes occurred, \n",
    "and if any external factors or specific promotions were influencing these peaks. Understanding these could provide actionable insights to stabilize and improve conversion rates.\n",
    "\n",
    "- Overall, while Group B is performing better in terms of conversion, the data points to a need for both groups to stabilize and enhance their conversion strategies to maintain a consistent performance across the board. Further analysis, perhaps through segmented data or deeper dives into user behavior, could help identify and mitigate the causes of such high variability in daily conversion rates."
   ]
  },
  {
   "cell_type": "markdown",
   "metadata": {},
   "source": [
    "<a id=\"14\"></a> \n",
    "## Number of orders per user"
   ]
  },
  {
   "cell_type": "markdown",
   "metadata": {},
   "source": [
    "- To create a scatter chart that illustrates the number of orders per user, the first step is to calculate each user's total orders. This is achieved by grouping the orders_df DataFrame by visitor_id and then tallying the transactions for each user."
   ]
  },
  {
   "cell_type": "code",
   "execution_count": 37,
   "metadata": {},
   "outputs": [
    {
     "data": {
      "image/png": "[encoded data removed]",
      "text/plain": [
       "<Figure size 640x480 with 1 Axes>"
      ]
     },
     "metadata": {},
     "output_type": "display_data"
    }
   ],
   "source": [
    "# Calculate the number of orders per user\n",
    "orders_per_user = orders_df.groupby('visitor_id')['transaction_id'].count()\n",
    "\n",
    "# Plot the scatter chart\n",
    "plt.scatter(orders_per_user.index, orders_per_user.values)\n",
    "\n",
    "plt.title('Number of Orders per User')\n",
    "plt.xlabel('Visitor ID')\n",
    "plt.ylabel('Number of Orders')\n",
    "\n",
    "plt.show()"
   ]
  },
  {
   "cell_type": "markdown",
   "metadata": {},
   "source": [
    "- Find the number of orders per user per group, by calculate the average number of orders per unique visitor for each group"
   ]
  },
  {
   "cell_type": "code",
   "execution_count": 38,
   "metadata": {},
   "outputs": [
    {
     "data": {
      "text/plain": [
       "group\n",
       "A    1.107356\n",
       "B    1.092150\n",
       "dtype: float64"
      ]
     },
     "execution_count": 38,
     "metadata": {},
     "output_type": "execute_result"
    }
   ],
   "source": [
    "# Count the number of unique visitors in each group using the nunique() function:\n",
    "unique_visitors_group = orders_df.groupby('group')['visitor_id'].nunique()\n",
    "\n",
    "# Count the number of orders in each group using the count() function:\n",
    "orders_group = orders_df.groupby('group')['transaction_id'].count()\n",
    "\n",
    "# Calculate the number of orders per user by dividing the total number of orders by the total number of unique visitors for each group:\n",
    "orders_per_user_per_group = orders_group / unique_visitors_group\n",
    "orders_per_user_per_group"
   ]
  },
  {
   "cell_type": "code",
   "execution_count": 39,
   "metadata": {},
   "outputs": [
    {
     "data": {
      "image/png": "[encoded data removed]",
      "text/plain": [
       "<Figure size 640x480 with 1 Axes>"
      ]
     },
     "metadata": {},
     "output_type": "display_data"
    }
   ],
   "source": [
    "# Extract the group names and orders_per_user values\n",
    "groups = orders_per_user_per_group.index\n",
    "orders_per_user_per_group_values = orders_per_user_per_group.values\n",
    "\n",
    "# Plotting the scatter chart\n",
    "plt.scatter(groups, orders_per_user_per_group_values)\n",
    "\n",
    "plt.xlabel('Group')\n",
    "plt.ylabel('Orders per User')\n",
    "plt.title('Number of Orders per User by Group')\n",
    "\n",
    "plt.show()"
   ]
  },
  {
   "cell_type": "markdown",
   "metadata": {},
   "source": [
    "- Conclusions (Number of orders per user):\n",
    "\n",
    "> - Low Order Frequency: The majority of users have placed only one or two orders. This is evident from the dense clustering of points at the lower end of the y-axis. It suggests that most customers do not make repeat purchases frequently.\n",
    "\n",
    "> - Few High Frequency Users: There are a few users who have placed significantly more orders, up to 10 orders, as shown by the outliers on the chart. These users might be considered highly engaged or loyal customers.\n",
    "\n",
    "> - Sparse Data at Higher Order Numbers: The data points become increasingly sparse as the number of orders per user increases. This indicates that very few users place many orders, pointing to a classic long-tail distribution of customer purchasing behavior.\n",
    "\n",
    "- Conjectures (Number of orders per user):\n",
    "\n",
    "> - Potential for Improved Customer Retention: Given the large number of users with only one or two orders, there might be significant opportunities for strategies aimed at increasing customer retention and encouraging repeat purchases.\n",
    "\n",
    "> - Loyalty Programs and Targeted Marketing: The presence of a small group of high-frequency users suggests that targeted marketing or loyalty programs could be effective. Tailoring special offers and rewards for frequent buyers could potentially increase their purchase frequency even further.\n",
    "\n",
    "> - Customer Segmentation: The data supports the idea of segmenting customers based on their purchasing behavior. Different marketing strategies could be applied to different segments, such as re-engagement campaigns for one-time buyers and loyalty rewards for frequent shoppers.\n",
    "\n",
    "> - Investigation of User Experience: The reasons behind why most users only shop once or twice could be explored further. Issues such as user experience, customer service, product satisfaction, and pricing might be influencing these behaviors.\n",
    "\n",
    "- In summary, the scatter chart provides valuable insights into customer order frequencies, highlighting a predominance of one-time or infrequent buyers and a small number of highly frequent buyers. This data can inform targeted strategies to boost retention and increase overall sales by catering more effectively to the needs of different customer segments."
   ]
  },
  {
   "cell_type": "markdown",
   "metadata": {},
   "source": [
    "<a id=\"15\"></a> \n",
    "## Calculation of the 95th and 99th percentiles for the number of orders per user"
   ]
  },
  {
   "cell_type": "markdown",
   "metadata": {},
   "source": [
    "- To calculate the 95th and 99th percentiles for the number of orders per user, quantile method in pandas on the orders_per_user Series can be utilized."
   ]
  },
  {
   "cell_type": "code",
   "execution_count": 40,
   "metadata": {},
   "outputs": [
    {
     "name": "stdout",
     "output_type": "stream",
     "text": [
      "95th Percentile: 2.00\n",
      "99th Percentile: 4.00\n",
      "Anomaly Threshold: 4.00\n"
     ]
    }
   ],
   "source": [
    "# Calculate the percentiles\n",
    "percentiles = np.percentile(orders_per_user, [95, 99])\n",
    "\n",
    "# Define the anomaly threshold\n",
    "anomaly_threshold = percentiles[1]  # Use the 99th percentile as the anomaly threshold\n",
    "\n",
    "print(\"95th Percentile: {:.2f}\".format(percentiles[0]))\n",
    "print(\"99th Percentile: {:.2f}\".format(percentiles[1]))\n",
    "print(\"Anomaly Threshold: {:.2f}\".format(anomaly_threshold))"
   ]
  },
  {
   "cell_type": "markdown",
   "metadata": {},
   "source": [
    "- Based on the percentiles calculated (95th Percentile: 2.00, 99th Percentile: 4.00), we can establish a criterion for identifying anomalies in the data.\n",
    "\n",
    "- An anomaly in this context is defined as a data point that surpasses the 99th percentile value. This delineation is used because it marks a value that is both extreme and rare within the dataset. Thus, any user with more than 4.00 orders is considered an anomaly.\n",
    "\n",
    "- Therefore, the threshold for anomalies is set at more than 4 orders per user. Users exceeding this number of orders are categorized as outliers within this dataset."
   ]
  },
  {
   "cell_type": "markdown",
   "metadata": {},
   "source": [
    "<a id=\"16\"></a> \n",
    "## Plot a scatter chart of order prices"
   ]
  },
  {
   "cell_type": "code",
   "execution_count": 41,
   "metadata": {},
   "outputs": [
    {
     "data": {
      "text/plain": [
       "count     1197.000000\n",
       "mean       131.491646\n",
       "std        603.004729\n",
       "min          5.000000\n",
       "25%         20.800000\n",
       "50%         50.200000\n",
       "75%        130.400000\n",
       "max      19920.400000\n",
       "Name: revenue, dtype: float64"
      ]
     },
     "execution_count": 41,
     "metadata": {},
     "output_type": "execute_result"
    }
   ],
   "source": [
    "order_prices = orders_df['revenue']\n",
    "order_prices.describe()"
   ]
  },
  {
   "cell_type": "code",
   "execution_count": 42,
   "metadata": {},
   "outputs": [
    {
     "data": {
      "image/png": "[encoded data removed]",
      "text/plain": [
       "<Figure size 1000x600 with 1 Axes>"
      ]
     },
     "metadata": {},
     "output_type": "display_data"
    }
   ],
   "source": [
    "# Create a scatter plot\n",
    "plt.figure(figsize=(10, 6))\n",
    "plt.scatter(orders_df.index, orders_df['revenue'], alpha=0.5)\n",
    "plt.xlabel('Order Index')\n",
    "plt.ylabel('Order Price')\n",
    "plt.title('Order Prices')\n",
    "plt.show()"
   ]
  },
  {
   "cell_type": "markdown",
   "metadata": {},
   "source": [
    "- Conclusions:\n",
    "\n",
    "> - Concentration of Lower-Price Orders: The majority of order prices are concentrated at the lower end of the price spectrum. This suggests that the bulk of transactions involve more affordable items or smaller purchase amounts.\n",
    "\n",
    "> - Presence of High-Value Orders: There are several orders with significantly higher prices, including one exceptional order that notably exceeds the rest. These outliers suggest the presence of either high-value items or large quantity purchases in a few transactions.\n",
    "\n",
    "> - Distribution Characteristics: Most order prices cluster below 2,500, indicating a general price range for typical orders. The presence of orders stretching up to 20,000, however, indicates some variability in what customers purchase or the scale at which they buy.\n",
    "\n",
    "- Conjectures:\n",
    "\n",
    "> - Impact of High-Value Orders: The outliers, especially the highest priced order, could significantly skew average order values and potentially distort performance metrics like average revenue per user (ARPU) unless accounted for in analyses.\n",
    "\n",
    "> - Market Segmentation: The data could imply a segmented customer base where a small fraction of customers contribute disproportionately to revenue through high-ticket purchases. Targeted marketing strategies could be developed to cater specifically to this high-spending customer segment.\n",
    "\n",
    "> - Price Strategy Review: The business might benefit from reviewing its pricing strategy and product mix to determine if there is potential to increase the transaction volume of mid to high-range priced items, given that most transactions are at the lower end.\n",
    "\n",
    "> - Anomaly Detection and Fraud Prevention: The outliers in the dataset could warrant further investigation to determine if they are legitimate transactions or if they represent data errors or fraudulent activity.\n",
    "\n",
    "- Overall, the scatter chart of order prices highlights a primary cluster of low to moderately priced orders, with a few significant outliers. These insights could help tailor marketing efforts, refine pricing strategies, and ensure accurate financial forecasting."
   ]
  },
  {
   "cell_type": "markdown",
   "metadata": {},
   "source": [
    "<a id=\"17\"></a> \n",
    "## Calculation of the 95th and 99th percentiles of order prices"
   ]
  },
  {
   "cell_type": "markdown",
   "metadata": {},
   "source": [
    "- To calculate the 95th and 99th percentiles for the order prices, quantile method in pandas on the orders_prices Series can be utilized."
   ]
  },
  {
   "cell_type": "code",
   "execution_count": 43,
   "metadata": {},
   "outputs": [
    {
     "name": "stdout",
     "output_type": "stream",
     "text": [
      "95th Percentile: 435.54\n",
      "99th Percentile: 900.90\n",
      "Anomaly Threshold: 900.90\n"
     ]
    }
   ],
   "source": [
    "# Calculate the percentiles\n",
    "percentiles = np.percentile(orders_df['revenue'], [95, 99])\n",
    "\n",
    "# Define the anomaly threshold\n",
    "anomaly_threshold = percentiles[1]  # Use the 99th percentile as the anomaly threshold\n",
    "\n",
    "print(\"95th Percentile: {:.2f}\".format(percentiles[0]))\n",
    "print(\"99th Percentile: {:.2f}\".format(percentiles[1]))\n",
    "print(\"Anomaly Threshold: {:.2f}\".format(anomaly_threshold))"
   ]
  },
  {
   "cell_type": "markdown",
   "metadata": {},
   "source": [
    "- Based on the calculated 95th and 99th percentiles (95th Percentile: 435.54, 99th Percentile: 900.90), we can establish a threshold for identifying anomalies in order prices.\n",
    "\n",
    "- An order price is classified as anomalous if it exceeds the 99th percentile value of 900.90, indicating that it is a rare and exceptionally high occurrence within the dataset. Consequently, any order price above 900.90 is deemed an anomaly according to these calculated percentiles.\n",
    "\n",
    "- Therefore, the threshold for anomalous order prices is set at 900.90. Orders that surpass this price point are categorized as anomalies within this analysis"
   ]
  },
  {
   "cell_type": "markdown",
   "metadata": {},
   "source": [
    "<a id=\"18\"></a> \n",
    "## Statistical significance of the difference in conversion between the groups using the raw data"
   ]
  },
  {
   "cell_type": "markdown",
   "metadata": {},
   "source": [
    "- In the framework of testing for statistical significance regarding the conversion rate differences between the groups, the hypotheses can be articulated as:\n",
    "\n",
    "> - H0 (Null Hypothesis): There is no meaningful statistical difference in the conversion rates of Group A compared to Group B.\n",
    "> - H1 (Alternative Hypothesis): There is a meaningful statistical difference in the conversion rates of Group A compared to Group B."
   ]
  },
  {
   "cell_type": "code",
   "execution_count": 44,
   "metadata": {},
   "outputs": [
    {
     "name": "stdout",
     "output_type": "stream",
     "text": [
      "Group A Conversion Rate: 0.0297\n",
      "Group B Conversion Rate: 0.0338\n",
      "Z-score: -2.2700\n",
      "p-value: 0.0232\n"
     ]
    }
   ],
   "source": [
    "import statsmodels.stats.proportion as sp\n",
    "\n",
    "# Calculate the total number of orders for each group\n",
    "total_orders_a = orders_df[orders_df['group'] == 'A'].shape[0]\n",
    "total_orders_b = orders_df[orders_df['group'] == 'B'].shape[0]\n",
    "\n",
    "# Calculate the total number of visits for each group\n",
    "total_visits_a = visits_df[visits_df['group'] == 'A']['visits'].sum()\n",
    "total_visits_b = visits_df[visits_df['group'] == 'B']['visits'].sum()\n",
    "\n",
    "# Calculate the conversion rates for each group\n",
    "conversion_rate_a = total_orders_a / total_visits_a\n",
    "conversion_rate_b = total_orders_b / total_visits_b\n",
    "\n",
    "# Perform proportions z-test\n",
    "zscore, pvalue = sp.proportions_ztest([total_orders_a, total_orders_b], [total_visits_a, total_visits_b])\n",
    "\n",
    "print(\"Group A Conversion Rate: {:.4f}\".format(conversion_rate_a))\n",
    "print(\"Group B Conversion Rate: {:.4f}\".format(conversion_rate_b))\n",
    "print(\"Z-score: {:.4f}\".format(zscore))\n",
    "print(\"p-value: {:.4f}\".format(pvalue))"
   ]
  },
  {
   "cell_type": "markdown",
   "metadata": {},
   "source": [
    "- Conclusion:\n",
    "\n",
    "> - Statistical Test Outcome: With a Z-score of -2.2700 and a p-value of 0.0232, the results indicate that there is a statistically significant difference in the conversion rates between Group A and Group B. The p-value is less than the conventional threshold of 0.05, which means we can reject the null hypothesis (H0) that states there is no difference in conversion rates between the two groups.\n",
    "\n",
    "> - Conversion Rate Comparison: The conversion rate for Group B (0.0338) is higher than that for Group A (0.0297). This difference is statistically significant according to the Z-test performed.\n",
    "\n",
    "- Conjecture:\n",
    "\n",
    "> - Effectiveness of Interventions: The higher conversion rate in Group B suggests that whatever changes or interventions were applied to Group B might be more effective at driving conversions compared to those applied to Group A. This could be due to various factors such as better targeted marketing, more appealing offers, or an improved user experience in Group B.\n",
    "\n",
    "> - Implications for Business Strategy: Given the significant difference in conversion rates, the company might consider analyzing and possibly scaling the strategies used in Group B across other segments of the business to enhance overall conversion rates."
   ]
  },
  {
   "cell_type": "markdown",
   "metadata": {},
   "source": [
    "<a id=\"19\"></a> \n",
    "## Statistical significance of the difference in average order size between the groups using the raw data"
   ]
  },
  {
   "cell_type": "markdown",
   "metadata": {},
   "source": [
    "- In the analysis of statistical significance concerning the average order size differences between Group A and Group B, the hypotheses are formulated as follows:\n",
    "\n",
    "> - H0 (Null Hypothesis): There is no meaningful statistical variation in the average order size between Group A and Group B.\n",
    "> - H1 (Alternative Hypothesis): There is a meaningful statistical variation in the average order size between Group A and Group B."
   ]
  },
  {
   "cell_type": "code",
   "execution_count": 45,
   "metadata": {},
   "outputs": [
    {
     "name": "stdout",
     "output_type": "stream",
     "text": [
      "Group A Mean Order Size: 115.90\n",
      "Group B Mean Order Size: 145.06\n",
      "t-statistic: -0.8886\n",
      "p-value: 0.3745\n"
     ]
    }
   ],
   "source": [
    "# Extract the order sizes for each group\n",
    "order_sizes_a = orders_df[orders_df['group'] == 'A']['revenue']\n",
    "order_sizes_b = orders_df[orders_df['group'] == 'B']['revenue']\n",
    "\n",
    "# Perform independent t-test\n",
    "t_stat, p_value = st.ttest_ind(order_sizes_a, order_sizes_b, equal_var=False)\n",
    "\n",
    "print(\"Group A Mean Order Size: {:.2f}\".format(order_sizes_a.mean()))\n",
    "print(\"Group B Mean Order Size: {:.2f}\".format(order_sizes_b.mean()))\n",
    "print(\"t-statistic: {:.4f}\".format(t_stat))\n",
    "print(\"p-value: {:.4f}\".format(p_value))"
   ]
  },
  {
   "cell_type": "markdown",
   "metadata": {},
   "source": [
    "- Conclusion:\n",
    "\n",
    "> - Difference in Mean Order Sizes: The mean order size for Group B (145.06) is higher than for Group A (115.90). However, the t-statistic of -0.8886 and a p-value of 0.3745 indicate that this difference is not statistically significant.\n",
    "\n",
    "> - Statistical Significance: Since the p-value (0.3745) is greater than the typical alpha level of 0.05, we fail to reject the null hypothesis (H0). This suggests that there is no statistically significant difference in the average order sizes between Group A and Group B.\n",
    "\n",
    "- Conjecture:\n",
    "\n",
    "> - Business Strategies: Although Group B appears to have a higher average order size, the lack of statistical significance suggests that the difference might be due to random variation rather than a result of different strategies or treatments applied to the groups. It's possible that both groups are effectively similar in terms of how much users are spending per order.\n",
    "> - Further Analysis: It may be beneficial to look into other aspects such as the number of transactions, customer loyalty, and buying frequency. Understanding these metrics could provide more insights into the revenue differences and help tailor more effective business strategies.\n",
    "\n",
    "> - Segmentation and Targeting: If the business goal is to increase the average order size effectively, considering customer segmentation and targeted marketing campaigns may yield better results. Analyzing customer behavior patterns could reveal underlying differences not captured by this test.\n",
    "\n",
    "- The t-test results guide us to conclude that any observed difference in average order size between the two groups under the current experimental setup is likely not due to the interventions tested. Future experiments might explore different strategies or increase the sample size to achieve more definitive results."
   ]
  },
  {
   "cell_type": "markdown",
   "metadata": {},
   "source": [
    "<a id=\"20\"></a> \n",
    "## Statistical significance of the difference in conversion between the groups using the filtered data"
   ]
  },
  {
   "cell_type": "markdown",
   "metadata": {},
   "source": [
    "- To find the statistical significance of the difference in conversion between the groups using the filtered data,  the hypotheses are formulated as follows:\n",
    "\n",
    "> - H0 (Null Hypothesis): There is no meaningful statistical variation in the conversion between Group A and Group B.\n",
    "> - H1 (Alternative Hypothesis): There is a meaningful statistical variation in the conversion between Group A and Group B."
   ]
  },
  {
   "cell_type": "code",
   "execution_count": 46,
   "metadata": {},
   "outputs": [],
   "source": [
    "# Calculate the number of orders for Group A and Group B\n",
    "orders_a = orders_df[orders_df['group'] == 'A'].shape[0]\n",
    "orders_b = orders_df[orders_df['group'] == 'B'].shape[0]\n",
    "\n",
    "# Calculate the number of visits for Group A and Group B\n",
    "visits_a = visits_df[visits_df['group'] == 'A']['visits'].sum()\n",
    "visits_b = visits_df[visits_df['group'] == 'B']['visits'].sum()\n",
    "\n",
    "# Calculate the conversion rates\n",
    "conversion_a = orders_a / visits_a\n",
    "conversion_b = orders_b / visits_b"
   ]
  },
  {
   "cell_type": "code",
   "execution_count": 47,
   "metadata": {},
   "outputs": [
    {
     "name": "stdout",
     "output_type": "stream",
     "text": [
      "Group A Conversion Rate: 0.0297\n",
      "Group B Conversion Rate: 0.0338\n",
      "Z-score: 2.2708\n",
      "p-value: 0.0232\n"
     ]
    }
   ],
   "source": [
    "# Calculate the pooled standard error\n",
    "se_a = np.sqrt(conversion_a * (1 - conversion_a) / visits_a)\n",
    "se_b = np.sqrt(conversion_b * (1 - conversion_b) / visits_b)\n",
    "se_pooled = np.sqrt(se_a**2 + se_b**2)\n",
    "\n",
    "# Calculate the Z-score\n",
    "z_score = (conversion_b - conversion_a) / se_pooled\n",
    "\n",
    "# Calculate the p-value (two-tailed test)\n",
    "p_value = 2 * (1 - st.norm.cdf(abs(z_score)))\n",
    "\n",
    "print(\"Group A Conversion Rate: {:.4f}\".format(conversion_a))\n",
    "print(\"Group B Conversion Rate: {:.4f}\".format(conversion_b))\n",
    "print(\"Z-score: {:.4f}\".format(z_score))\n",
    "print(\"p-value: {:.4f}\".format(p_value))"
   ]
  },
  {
   "cell_type": "markdown",
   "metadata": {},
   "source": [
    "- Conclusion:\n",
    "\n",
    "> - Statistical Significance: With a Z-score of 2.2708 and a p-value of 0.0232, the results suggest a statistically significant difference in the conversion rates between Group A and Group B. The p-value being below the standard threshold of 0.05 means we can reject the null hypothesis (H0), which posited that there is no difference in conversion rates between the two groups.\n",
    "\n",
    "> - Conversion Rate Comparison: The conversion rate for Group B (0.0338) is higher than that for Group A (0.0297). This statistically significant result indicates that the interventions or conditions applied to Group B were more effective in converting visitors into customers than those applied to Group A.\n",
    "\n",
    "- Conjecture:\n",
    "\n",
    "> - Implications for Marketing and Strategy: The higher conversion rate in Group B suggests that marketing tactics, website optimization, or product offerings in Group B are more effective. The company should consider analyzing what specific aspects contributed to this higher conversion rate and potentially applying these successful strategies more broadly.\n",
    "\n",
    "> - Potential Bias or Variables: The significant difference also suggests investigating whether there were any biases or uncontrolled variables that could have impacted the results. For instance, external factors such as seasonal influences, competitive actions, or market changes might also play a role.\n",
    "\n",
    "> - Customer Insights: Understanding why Group B's strategies were more effective may provide valuable insights into customer preferences and behavior. This could involve qualitative data analysis such as customer feedback sessions or usability testing to complement the quantitative data from the A/B test.\n",
    "\n",
    "- Overall, the analysis indicates a clear advantage for Group B in terms of conversion effectiveness. Leveraging these insights can help tailor future marketing efforts to enhance conversion rates further."
   ]
  },
  {
   "cell_type": "markdown",
   "metadata": {},
   "source": [
    "<a id=\"21\"></a> \n",
    "## Statistical significance of the difference in average order size between the groups using the filtered data"
   ]
  },
  {
   "cell_type": "markdown",
   "metadata": {},
   "source": [
    "- To find the statistical significance of the difference in average order size between the groups using the filtered data based on the anomalies and 99th percentiles, a hypothesis test such as the t-test can be performed.\n",
    "\n",
    "> - H0 (Null Hypothesis): There is no meaningful statistical variation in the average order size between the two groups.\n",
    "> - H1 (Alternative Hypothesis): There is a meaningful statistical variation in the average order size between the two groups."
   ]
  },
  {
   "cell_type": "code",
   "execution_count": 48,
   "metadata": {},
   "outputs": [
    {
     "name": "stdout",
     "output_type": "stream",
     "text": [
      "t-statistic: -0.2311\n",
      "p-value: 0.8173\n"
     ]
    }
   ],
   "source": [
    "# Filter the 'orders_df' dataframe to include only the orders with prices below the 99th percentile (900.90).\n",
    "filtered_orders = orders_df[orders_df['revenue'] < 900.90]\n",
    "\n",
    "# Merge the filtered orders dataframe with the 'visits_df' dataframe on the 'date' and 'group' columns.\n",
    "merged_data = pd.merge(filtered_orders, visits_df, on=['date', 'group'])\n",
    "\n",
    "# Calculate the average order size for each group.\n",
    "average_order_size_A = merged_data[merged_data['group'] == 'A']['revenue'].mean()\n",
    "average_order_size_B = merged_data[merged_data['group'] == 'B']['revenue'].mean()\n",
    "\n",
    "# Perform a statistical test to determine the significance of the difference in average order size between the groups.\n",
    "# One commonly used test is the independent t-test.\n",
    "from scipy.stats import ttest_ind\n",
    "group_A_orders = merged_data[merged_data['group'] == 'A']['revenue']\n",
    "group_B_orders = merged_data[merged_data['group'] == 'B']['revenue']\n",
    "\n",
    "statistic, p_value = ttest_ind(group_A_orders, group_B_orders)\n",
    "\n",
    "print(\"t-statistic: {:.4f}\".format(statistic))\n",
    "print(\"p-value: {:.4f}\".format(p_value))"
   ]
  },
  {
   "cell_type": "markdown",
   "metadata": {},
   "source": [
    "- Conclusion:\n",
    "\n",
    "> - Lack of Statistical Significance: The t-statistic of -0.2311 and a p-value of 0.8173 indicate that there is no statistically significant difference in the metric being tested (e.g., average order size, conversion rate) between the two groups under consideration. The p-value far exceeds the conventional threshold of 0.05, leading us to fail to reject the null hypothesis (H0), which posits that there is no difference between the groups.\n",
    "\n",
    "- Conjecture:\n",
    "\n",
    "> - Equivalence of Treatments or Conditions: The results suggest that the interventions, conditions, or changes applied to both groups have similar effects, implying that neither has a superior impact. This could mean that the strategies or variables tested do not differentiate significantly in influencing the outcome.\n",
    "\n",
    "> - Review of Experiment Setup: It might be beneficial to revisit the experiment's design or the variables chosen for modification. There could be a need to adjust the hypothesis, select different metrics for comparison, or change the interventions to see if a more pronounced effect can be observed.\n",
    "\n",
    "> - Exploration of Additional Variables: If the current variables show no significant differences, exploring additional or alternative variables could be crucial. Understanding broader or different aspects of customer behavior or operational impacts might reveal more significant effects.\n",
    "\n",
    "- This scenario underscores the importance of robust experiment design and the need to continuously refine and reevaluate strategies based on empirical evidence."
   ]
  },
  {
   "cell_type": "markdown",
   "metadata": {},
   "source": [
    "<a id=\"22\"></a> \n",
    "# Stage 2: Make a decision based on the test results"
   ]
  },
  {
   "cell_type": "markdown",
   "metadata": {},
   "source": [
    "- Given the test results and available information, the appropriate action would be to terminate the test and conclude that there is no significant difference between the groups. The analysis of both conversion rates and average order sizes did not demonstrate statistically significant differences.\n",
    "\n",
    "- Ending the test and acknowledging that no discernible differences exist between the groups is a sensible choice based on the data presented. Nevertheless, it's crucial to recognize the limitations of this analysis and the specific circumstances surrounding this project."
   ]
  }
 ],
 "metadata": {
  "ExecuteTimeLog": [
   {
    "duration": 25876,
    "start_time": "2024-05-18T08:17:39.773Z"
   },
   {
    "duration": 5264,
    "start_time": "2024-05-18T08:18:05.653Z"
   },
   {
    "duration": 0,
    "start_time": "2024-05-18T08:18:10.921Z"
   },
   {
    "duration": 0,
    "start_time": "2024-05-18T08:18:10.924Z"
   },
   {
    "duration": 0,
    "start_time": "2024-05-18T08:18:10.926Z"
   },
   {
    "duration": 0,
    "start_time": "2024-05-18T08:18:10.931Z"
   },
   {
    "duration": 0,
    "start_time": "2024-05-18T08:18:10.934Z"
   },
   {
    "duration": 0,
    "start_time": "2024-05-18T08:18:10.936Z"
   },
   {
    "duration": 0,
    "start_time": "2024-05-18T08:18:10.939Z"
   },
   {
    "duration": 0,
    "start_time": "2024-05-18T08:18:10.943Z"
   },
   {
    "duration": 0,
    "start_time": "2024-05-18T08:18:10.945Z"
   },
   {
    "duration": 0,
    "start_time": "2024-05-18T08:18:10.947Z"
   },
   {
    "duration": 0,
    "start_time": "2024-05-18T08:18:10.949Z"
   },
   {
    "duration": 0,
    "start_time": "2024-05-18T08:18:10.951Z"
   },
   {
    "duration": 0,
    "start_time": "2024-05-18T08:18:10.952Z"
   },
   {
    "duration": 0,
    "start_time": "2024-05-18T08:18:10.955Z"
   },
   {
    "duration": 0,
    "start_time": "2024-05-18T08:18:10.958Z"
   },
   {
    "duration": 0,
    "start_time": "2024-05-18T08:18:10.959Z"
   },
   {
    "duration": 0,
    "start_time": "2024-05-18T08:18:10.960Z"
   },
   {
    "duration": 0,
    "start_time": "2024-05-18T08:18:10.961Z"
   },
   {
    "duration": 0,
    "start_time": "2024-05-18T08:18:10.962Z"
   },
   {
    "duration": 0,
    "start_time": "2024-05-18T08:18:10.963Z"
   },
   {
    "duration": 0,
    "start_time": "2024-05-18T08:18:11.010Z"
   },
   {
    "duration": 2660,
    "start_time": "2024-05-21T02:10:28.348Z"
   },
   {
    "duration": 29,
    "start_time": "2024-05-21T02:10:31.011Z"
   },
   {
    "duration": 0,
    "start_time": "2024-05-21T02:10:31.044Z"
   },
   {
    "duration": 0,
    "start_time": "2024-05-21T02:10:31.046Z"
   },
   {
    "duration": 0,
    "start_time": "2024-05-21T02:10:31.048Z"
   },
   {
    "duration": 0,
    "start_time": "2024-05-21T02:10:31.050Z"
   },
   {
    "duration": 0,
    "start_time": "2024-05-21T02:10:31.053Z"
   },
   {
    "duration": 0,
    "start_time": "2024-05-21T02:10:31.055Z"
   },
   {
    "duration": 0,
    "start_time": "2024-05-21T02:10:31.058Z"
   },
   {
    "duration": 0,
    "start_time": "2024-05-21T02:10:31.061Z"
   },
   {
    "duration": 0,
    "start_time": "2024-05-21T02:10:31.064Z"
   },
   {
    "duration": 0,
    "start_time": "2024-05-21T02:10:31.066Z"
   },
   {
    "duration": 0,
    "start_time": "2024-05-21T02:10:31.068Z"
   },
   {
    "duration": 0,
    "start_time": "2024-05-21T02:10:31.070Z"
   },
   {
    "duration": 0,
    "start_time": "2024-05-21T02:10:31.072Z"
   },
   {
    "duration": 0,
    "start_time": "2024-05-21T02:10:31.074Z"
   },
   {
    "duration": 0,
    "start_time": "2024-05-21T02:10:31.076Z"
   },
   {
    "duration": 0,
    "start_time": "2024-05-21T02:10:31.078Z"
   },
   {
    "duration": 0,
    "start_time": "2024-05-21T02:10:31.080Z"
   },
   {
    "duration": 0,
    "start_time": "2024-05-21T02:10:31.133Z"
   },
   {
    "duration": 0,
    "start_time": "2024-05-21T02:10:31.136Z"
   },
   {
    "duration": 0,
    "start_time": "2024-05-21T02:10:31.137Z"
   },
   {
    "duration": 0,
    "start_time": "2024-05-21T02:10:31.139Z"
   },
   {
    "duration": 2635,
    "start_time": "2024-05-21T02:11:01.740Z"
   },
   {
    "duration": 28,
    "start_time": "2024-05-21T02:11:06.510Z"
   },
   {
    "duration": 13,
    "start_time": "2024-05-21T02:12:20.924Z"
   },
   {
    "duration": 28,
    "start_time": "2024-05-21T02:12:22.403Z"
   },
   {
    "duration": 4,
    "start_time": "2024-05-21T02:12:27.972Z"
   },
   {
    "duration": 8,
    "start_time": "2024-05-21T02:12:28.635Z"
   },
   {
    "duration": 7,
    "start_time": "2024-05-21T02:12:29.316Z"
   },
   {
    "duration": 13,
    "start_time": "2024-05-21T02:12:33.733Z"
   },
   {
    "duration": 27,
    "start_time": "2024-05-21T02:12:34.092Z"
   },
   {
    "duration": 8,
    "start_time": "2024-05-21T02:12:34.986Z"
   },
   {
    "duration": 8,
    "start_time": "2024-05-21T02:12:35.447Z"
   },
   {
    "duration": 8,
    "start_time": "2024-05-21T02:12:45.780Z"
   },
   {
    "duration": 7,
    "start_time": "2024-05-21T02:12:46.189Z"
   },
   {
    "duration": 7,
    "start_time": "2024-05-21T02:12:47.882Z"
   },
   {
    "duration": 18,
    "start_time": "2024-05-21T02:12:49.016Z"
   },
   {
    "duration": 18,
    "start_time": "2024-05-21T02:12:53.235Z"
   },
   {
    "duration": 12,
    "start_time": "2024-05-21T02:12:54.914Z"
   },
   {
    "duration": 20,
    "start_time": "2024-05-21T02:12:55.479Z"
   },
   {
    "duration": 10,
    "start_time": "2024-05-21T02:12:55.980Z"
   },
   {
    "duration": 15,
    "start_time": "2024-05-21T02:12:57.307Z"
   },
   {
    "duration": 24,
    "start_time": "2024-05-21T02:12:57.893Z"
   },
   {
    "duration": 21,
    "start_time": "2024-05-21T02:13:26.769Z"
   },
   {
    "duration": 19,
    "start_time": "2024-05-21T02:13:31.003Z"
   },
   {
    "duration": 581,
    "start_time": "2024-05-21T02:13:34.139Z"
   },
   {
    "duration": 729,
    "start_time": "2024-05-21T02:16:46.105Z"
   },
   {
    "duration": 6,
    "start_time": "2024-05-21T02:16:58.193Z"
   },
   {
    "duration": 7,
    "start_time": "2024-05-21T02:17:12.518Z"
   },
   {
    "duration": 3,
    "start_time": "2024-05-21T02:17:20.901Z"
   },
   {
    "duration": 83,
    "start_time": "2024-05-21T02:17:35.774Z"
   },
   {
    "duration": 45,
    "start_time": "2024-05-21T02:17:40.217Z"
   },
   {
    "duration": 11,
    "start_time": "2024-05-21T02:17:44.448Z"
   },
   {
    "duration": 7,
    "start_time": "2024-05-21T02:18:06.877Z"
   },
   {
    "duration": 13,
    "start_time": "2024-05-21T02:18:27.608Z"
   },
   {
    "duration": 15,
    "start_time": "2024-05-21T02:18:32.622Z"
   },
   {
    "duration": 26,
    "start_time": "2024-05-21T02:18:56.465Z"
   },
   {
    "duration": 12,
    "start_time": "2024-05-21T02:21:33.212Z"
   },
   {
    "duration": 295,
    "start_time": "2024-05-21T02:21:51.401Z"
   },
   {
    "duration": 349,
    "start_time": "2024-05-21T02:22:24.125Z"
   },
   {
    "duration": 16,
    "start_time": "2024-05-21T02:39:14.381Z"
   },
   {
    "duration": 4,
    "start_time": "2024-05-21T02:39:31.851Z"
   },
   {
    "duration": 4,
    "start_time": "2024-05-21T02:39:36.891Z"
   },
   {
    "duration": 270,
    "start_time": "2024-05-21T02:40:17.986Z"
   },
   {
    "duration": 14,
    "start_time": "2024-05-21T02:47:43.000Z"
   },
   {
    "duration": 13,
    "start_time": "2024-05-21T02:48:27.606Z"
   },
   {
    "duration": 234,
    "start_time": "2024-05-21T02:48:50.903Z"
   },
   {
    "duration": 237,
    "start_time": "2024-05-21T02:49:09.871Z"
   },
   {
    "duration": 32,
    "start_time": "2024-05-21T02:55:08.809Z"
   },
   {
    "duration": 313,
    "start_time": "2024-05-21T02:56:34.648Z"
   },
   {
    "duration": 14,
    "start_time": "2024-05-21T03:00:47.593Z"
   },
   {
    "duration": 15,
    "start_time": "2024-05-21T03:01:01.785Z"
   },
   {
    "duration": 22,
    "start_time": "2024-05-21T03:01:55.128Z"
   },
   {
    "duration": 26,
    "start_time": "2024-05-21T03:02:07.886Z"
   },
   {
    "duration": 2602,
    "start_time": "2024-05-21T03:02:15.648Z"
   },
   {
    "duration": 30,
    "start_time": "2024-05-21T03:02:18.253Z"
   },
   {
    "duration": 0,
    "start_time": "2024-05-21T03:02:18.288Z"
   },
   {
    "duration": 0,
    "start_time": "2024-05-21T03:02:18.290Z"
   },
   {
    "duration": 0,
    "start_time": "2024-05-21T03:02:18.292Z"
   },
   {
    "duration": 0,
    "start_time": "2024-05-21T03:02:18.294Z"
   },
   {
    "duration": 0,
    "start_time": "2024-05-21T03:02:18.296Z"
   },
   {
    "duration": 0,
    "start_time": "2024-05-21T03:02:18.299Z"
   },
   {
    "duration": 0,
    "start_time": "2024-05-21T03:02:18.301Z"
   },
   {
    "duration": 0,
    "start_time": "2024-05-21T03:02:18.303Z"
   },
   {
    "duration": 0,
    "start_time": "2024-05-21T03:02:18.305Z"
   },
   {
    "duration": 0,
    "start_time": "2024-05-21T03:02:18.307Z"
   },
   {
    "duration": 0,
    "start_time": "2024-05-21T03:02:18.309Z"
   },
   {
    "duration": 0,
    "start_time": "2024-05-21T03:02:18.312Z"
   },
   {
    "duration": 0,
    "start_time": "2024-05-21T03:02:18.333Z"
   },
   {
    "duration": 0,
    "start_time": "2024-05-21T03:02:18.335Z"
   },
   {
    "duration": 0,
    "start_time": "2024-05-21T03:02:18.337Z"
   },
   {
    "duration": 0,
    "start_time": "2024-05-21T03:02:18.340Z"
   },
   {
    "duration": 0,
    "start_time": "2024-05-21T03:02:18.342Z"
   },
   {
    "duration": 0,
    "start_time": "2024-05-21T03:02:18.344Z"
   },
   {
    "duration": 0,
    "start_time": "2024-05-21T03:02:18.347Z"
   },
   {
    "duration": 0,
    "start_time": "2024-05-21T03:02:18.348Z"
   },
   {
    "duration": 0,
    "start_time": "2024-05-21T03:02:18.350Z"
   },
   {
    "duration": 0,
    "start_time": "2024-05-21T03:02:18.352Z"
   },
   {
    "duration": 0,
    "start_time": "2024-05-21T03:02:18.354Z"
   },
   {
    "duration": 0,
    "start_time": "2024-05-21T03:02:18.356Z"
   },
   {
    "duration": 0,
    "start_time": "2024-05-21T03:02:18.358Z"
   },
   {
    "duration": 0,
    "start_time": "2024-05-21T03:02:18.360Z"
   },
   {
    "duration": 0,
    "start_time": "2024-05-21T03:02:18.362Z"
   },
   {
    "duration": 0,
    "start_time": "2024-05-21T03:02:18.364Z"
   },
   {
    "duration": 0,
    "start_time": "2024-05-21T03:02:18.366Z"
   },
   {
    "duration": 0,
    "start_time": "2024-05-21T03:02:18.368Z"
   },
   {
    "duration": 0,
    "start_time": "2024-05-21T03:02:18.370Z"
   },
   {
    "duration": 0,
    "start_time": "2024-05-21T03:02:18.432Z"
   },
   {
    "duration": 0,
    "start_time": "2024-05-21T03:02:18.434Z"
   },
   {
    "duration": 0,
    "start_time": "2024-05-21T03:02:18.436Z"
   },
   {
    "duration": 10,
    "start_time": "2024-05-21T03:02:50.419Z"
   },
   {
    "duration": 23,
    "start_time": "2024-05-21T03:02:50.433Z"
   },
   {
    "duration": 4,
    "start_time": "2024-05-21T03:02:50.460Z"
   },
   {
    "duration": 9,
    "start_time": "2024-05-21T03:02:50.469Z"
   },
   {
    "duration": 55,
    "start_time": "2024-05-21T03:02:50.481Z"
   },
   {
    "duration": 10,
    "start_time": "2024-05-21T03:02:50.539Z"
   },
   {
    "duration": 26,
    "start_time": "2024-05-21T03:02:50.552Z"
   },
   {
    "duration": 5,
    "start_time": "2024-05-21T03:02:50.582Z"
   },
   {
    "duration": 8,
    "start_time": "2024-05-21T03:02:50.633Z"
   },
   {
    "duration": 10,
    "start_time": "2024-05-21T03:02:50.644Z"
   },
   {
    "duration": 7,
    "start_time": "2024-05-21T03:02:50.656Z"
   },
   {
    "duration": 7,
    "start_time": "2024-05-21T03:02:50.667Z"
   },
   {
    "duration": 63,
    "start_time": "2024-05-21T03:02:50.677Z"
   },
   {
    "duration": 9,
    "start_time": "2024-05-21T03:02:50.744Z"
   },
   {
    "duration": 20,
    "start_time": "2024-05-21T03:02:50.756Z"
   },
   {
    "duration": 8,
    "start_time": "2024-05-21T03:02:50.780Z"
   },
   {
    "duration": 15,
    "start_time": "2024-05-21T03:02:50.832Z"
   },
   {
    "duration": 24,
    "start_time": "2024-05-21T03:02:50.851Z"
   },
   {
    "duration": 0,
    "start_time": "2024-05-21T03:02:50.879Z"
   },
   {
    "duration": 0,
    "start_time": "2024-05-21T03:02:50.881Z"
   },
   {
    "duration": 0,
    "start_time": "2024-05-21T03:02:50.884Z"
   },
   {
    "duration": 0,
    "start_time": "2024-05-21T03:02:50.886Z"
   },
   {
    "duration": 0,
    "start_time": "2024-05-21T03:02:50.887Z"
   },
   {
    "duration": 0,
    "start_time": "2024-05-21T03:02:50.889Z"
   },
   {
    "duration": 0,
    "start_time": "2024-05-21T03:02:50.890Z"
   },
   {
    "duration": 0,
    "start_time": "2024-05-21T03:02:50.933Z"
   },
   {
    "duration": 0,
    "start_time": "2024-05-21T03:02:50.936Z"
   },
   {
    "duration": 0,
    "start_time": "2024-05-21T03:02:50.938Z"
   },
   {
    "duration": 0,
    "start_time": "2024-05-21T03:02:50.941Z"
   },
   {
    "duration": 0,
    "start_time": "2024-05-21T03:02:50.943Z"
   },
   {
    "duration": 0,
    "start_time": "2024-05-21T03:02:50.945Z"
   },
   {
    "duration": 0,
    "start_time": "2024-05-21T03:02:50.948Z"
   },
   {
    "duration": 0,
    "start_time": "2024-05-21T03:02:50.950Z"
   },
   {
    "duration": 0,
    "start_time": "2024-05-21T03:02:50.953Z"
   },
   {
    "duration": 16,
    "start_time": "2024-05-21T03:03:15.618Z"
   },
   {
    "duration": 18,
    "start_time": "2024-05-21T03:03:15.637Z"
   },
   {
    "duration": 558,
    "start_time": "2024-05-21T03:03:15.658Z"
   },
   {
    "duration": 15,
    "start_time": "2024-05-21T03:03:16.220Z"
   },
   {
    "duration": 13,
    "start_time": "2024-05-21T03:03:16.238Z"
   },
   {
    "duration": 7,
    "start_time": "2024-05-21T03:03:16.254Z"
   },
   {
    "duration": 26,
    "start_time": "2024-05-21T03:03:16.264Z"
   },
   {
    "duration": 47,
    "start_time": "2024-05-21T03:03:16.292Z"
   },
   {
    "duration": 288,
    "start_time": "2024-05-21T03:03:16.342Z"
   },
   {
    "duration": 16,
    "start_time": "2024-05-21T03:03:16.635Z"
   },
   {
    "duration": 5,
    "start_time": "2024-05-21T03:03:16.654Z"
   },
   {
    "duration": 295,
    "start_time": "2024-05-21T03:03:16.664Z"
   },
   {
    "duration": 13,
    "start_time": "2024-05-21T03:03:16.962Z"
   },
   {
    "duration": 279,
    "start_time": "2024-05-21T03:03:16.977Z"
   },
   {
    "duration": 32,
    "start_time": "2024-05-21T03:03:17.258Z"
   },
   {
    "duration": 316,
    "start_time": "2024-05-21T03:03:17.293Z"
   },
   {
    "duration": 31,
    "start_time": "2024-05-21T03:07:34.052Z"
   },
   {
    "duration": 204,
    "start_time": "2024-05-21T03:42:12.193Z"
   },
   {
    "duration": 11,
    "start_time": "2024-05-21T03:43:43.582Z"
   },
   {
    "duration": 174,
    "start_time": "2024-05-21T03:43:58.930Z"
   },
   {
    "duration": 179,
    "start_time": "2024-05-21T03:44:12.856Z"
   },
   {
    "duration": 6,
    "start_time": "2024-05-21T03:50:53.141Z"
   },
   {
    "duration": 11,
    "start_time": "2024-05-21T03:54:12.473Z"
   },
   {
    "duration": 245,
    "start_time": "2024-05-21T03:54:26.275Z"
   },
   {
    "duration": 7,
    "start_time": "2024-05-21T03:59:40.377Z"
   },
   {
    "duration": 25,
    "start_time": "2024-05-21T04:07:01.370Z"
   },
   {
    "duration": 32,
    "start_time": "2024-05-21T04:09:29.985Z"
   },
   {
    "duration": 29,
    "start_time": "2024-05-21T04:11:57.853Z"
   },
   {
    "duration": 12,
    "start_time": "2024-05-21T04:12:29.606Z"
   },
   {
    "duration": 27914,
    "start_time": "2024-05-24T02:10:47.805Z"
   },
   {
    "duration": 6345,
    "start_time": "2024-05-24T02:11:18.585Z"
   },
   {
    "duration": 25,
    "start_time": "2024-05-24T02:11:31.729Z"
   },
   {
    "duration": 29,
    "start_time": "2024-05-24T02:11:32.425Z"
   },
   {
    "duration": 5,
    "start_time": "2024-05-24T02:11:35.166Z"
   },
   {
    "duration": 10,
    "start_time": "2024-05-24T02:11:35.765Z"
   },
   {
    "duration": 6,
    "start_time": "2024-05-24T02:11:36.821Z"
   },
   {
    "duration": 15,
    "start_time": "2024-05-24T02:11:39.024Z"
   },
   {
    "duration": 27,
    "start_time": "2024-05-24T02:11:39.837Z"
   },
   {
    "duration": 11,
    "start_time": "2024-05-24T02:11:42.082Z"
   },
   {
    "duration": 6,
    "start_time": "2024-05-24T02:11:42.815Z"
   },
   {
    "duration": 9,
    "start_time": "2024-05-24T02:11:43.885Z"
   },
   {
    "duration": 9,
    "start_time": "2024-05-24T02:11:46.142Z"
   },
   {
    "duration": 10,
    "start_time": "2024-05-24T02:11:46.645Z"
   },
   {
    "duration": 20,
    "start_time": "2024-05-24T02:11:49.208Z"
   },
   {
    "duration": 13,
    "start_time": "2024-05-24T02:11:50.624Z"
   },
   {
    "duration": 30,
    "start_time": "2024-05-24T02:11:52.574Z"
   },
   {
    "duration": 12,
    "start_time": "2024-05-24T02:11:53.253Z"
   },
   {
    "duration": 20,
    "start_time": "2024-05-24T02:11:55.302Z"
   },
   {
    "duration": 30,
    "start_time": "2024-05-24T02:11:57.077Z"
   },
   {
    "duration": 40,
    "start_time": "2024-05-24T02:12:00.984Z"
   },
   {
    "duration": 28,
    "start_time": "2024-05-24T02:12:04.720Z"
   },
   {
    "duration": 989,
    "start_time": "2024-05-24T02:12:08.407Z"
   },
   {
    "duration": 13,
    "start_time": "2024-05-24T02:12:14.976Z"
   },
   {
    "duration": 23,
    "start_time": "2024-05-24T02:12:15.681Z"
   },
   {
    "duration": 14,
    "start_time": "2024-05-24T02:12:16.567Z"
   },
   {
    "duration": 55,
    "start_time": "2024-05-24T02:12:17.399Z"
   },
   {
    "duration": 25,
    "start_time": "2024-05-24T02:12:20.706Z"
   },
   {
    "duration": 539,
    "start_time": "2024-05-24T02:12:21.389Z"
   },
   {
    "duration": 43,
    "start_time": "2024-05-24T02:12:26.988Z"
   },
   {
    "duration": 8,
    "start_time": "2024-05-24T02:12:27.607Z"
   },
   {
    "duration": 857,
    "start_time": "2024-05-24T02:12:29.483Z"
   },
   {
    "duration": 42,
    "start_time": "2024-05-24T02:12:35.015Z"
   },
   {
    "duration": 594,
    "start_time": "2024-05-24T02:12:35.868Z"
   },
   {
    "duration": 59,
    "start_time": "2024-05-24T02:12:40.576Z"
   },
   {
    "duration": 493,
    "start_time": "2024-05-24T02:12:41.546Z"
   },
   {
    "duration": 296,
    "start_time": "2024-05-24T02:12:46.118Z"
   },
   {
    "duration": 16,
    "start_time": "2024-05-24T02:12:47.799Z"
   },
   {
    "duration": 288,
    "start_time": "2024-05-24T02:12:50.367Z"
   },
   {
    "duration": 12,
    "start_time": "2024-05-24T02:12:54.746Z"
   },
   {
    "duration": 36,
    "start_time": "2024-05-24T02:12:57.528Z"
   },
   {
    "duration": 419,
    "start_time": "2024-05-24T02:12:58.175Z"
   },
   {
    "duration": 13,
    "start_time": "2024-05-24T02:13:02.783Z"
   },
   {
    "duration": 49,
    "start_time": "2024-05-24T02:13:05.935Z"
   },
   {
    "duration": 25,
    "start_time": "2024-05-24T02:13:09.937Z"
   },
   {
    "duration": 12,
    "start_time": "2024-05-24T02:17:49.966Z"
   },
   {
    "duration": 42,
    "start_time": "2024-05-24T02:18:01.245Z"
   },
   {
    "duration": 39,
    "start_time": "2024-05-24T02:18:09.805Z"
   },
   {
    "duration": 8,
    "start_time": "2024-05-24T02:18:22.262Z"
   },
   {
    "duration": 21,
    "start_time": "2024-05-24T02:21:54.649Z"
   },
   {
    "duration": 20,
    "start_time": "2024-05-24T02:22:08.367Z"
   },
   {
    "duration": 25622,
    "start_time": "2024-05-27T08:25:51.316Z"
   },
   {
    "duration": 5325,
    "start_time": "2024-05-27T08:26:16.941Z"
   },
   {
    "duration": 514,
    "start_time": "2024-05-27T08:26:38.660Z"
   },
   {
    "duration": 16,
    "start_time": "2024-05-27T08:26:46.899Z"
   },
   {
    "duration": 27,
    "start_time": "2024-05-27T08:26:48.032Z"
   },
   {
    "duration": 4,
    "start_time": "2024-05-27T08:26:51.034Z"
   },
   {
    "duration": 9,
    "start_time": "2024-05-27T08:26:51.555Z"
   },
   {
    "duration": 6,
    "start_time": "2024-05-27T08:26:52.837Z"
   },
   {
    "duration": 12,
    "start_time": "2024-05-27T08:26:56.246Z"
   },
   {
    "duration": 23,
    "start_time": "2024-05-27T08:26:57.315Z"
   },
   {
    "duration": 4,
    "start_time": "2024-05-27T08:27:00.515Z"
   },
   {
    "duration": 6,
    "start_time": "2024-05-27T08:27:01.104Z"
   },
   {
    "duration": 9,
    "start_time": "2024-05-27T08:27:01.961Z"
   },
   {
    "duration": 7,
    "start_time": "2024-05-27T08:27:02.837Z"
   },
   {
    "duration": 7,
    "start_time": "2024-05-27T08:27:04.614Z"
   },
   {
    "duration": 17,
    "start_time": "2024-05-27T08:27:06.675Z"
   },
   {
    "duration": 9,
    "start_time": "2024-05-27T08:27:08.938Z"
   },
   {
    "duration": 21,
    "start_time": "2024-05-27T08:27:10.916Z"
   },
   {
    "duration": 8,
    "start_time": "2024-05-27T08:27:13.180Z"
   },
   {
    "duration": 15,
    "start_time": "2024-05-27T08:27:13.873Z"
   },
   {
    "duration": 24,
    "start_time": "2024-05-27T08:27:20.093Z"
   },
   {
    "duration": 17,
    "start_time": "2024-05-27T08:27:24.662Z"
   },
   {
    "duration": 594,
    "start_time": "2024-05-27T08:27:29.001Z"
   },
   {
    "duration": 7,
    "start_time": "2024-05-27T08:27:38.562Z"
   },
   {
    "duration": 15,
    "start_time": "2024-05-27T08:27:39.579Z"
   },
   {
    "duration": 11,
    "start_time": "2024-05-27T08:27:40.148Z"
   },
   {
    "duration": 25,
    "start_time": "2024-05-27T08:27:40.995Z"
   },
   {
    "duration": 12,
    "start_time": "2024-05-27T08:27:44.173Z"
   },
   {
    "duration": 340,
    "start_time": "2024-05-27T08:27:45.004Z"
   },
   {
    "duration": 16,
    "start_time": "2024-05-27T08:27:51.474Z"
   },
   {
    "duration": 12,
    "start_time": "2024-05-27T08:27:53.016Z"
   },
   {
    "duration": 281,
    "start_time": "2024-05-27T08:27:59.219Z"
   },
   {
    "duration": 13,
    "start_time": "2024-05-27T08:28:05.634Z"
   },
   {
    "duration": 243,
    "start_time": "2024-05-27T08:28:06.894Z"
   },
   {
    "duration": 32,
    "start_time": "2024-05-27T08:28:12.481Z"
   },
   {
    "duration": 291,
    "start_time": "2024-05-27T08:28:16.299Z"
   },
   {
    "duration": 184,
    "start_time": "2024-05-27T08:28:22.346Z"
   },
   {
    "duration": 13,
    "start_time": "2024-05-27T08:28:25.552Z"
   },
   {
    "duration": 183,
    "start_time": "2024-05-27T08:28:28.442Z"
   },
   {
    "duration": 6,
    "start_time": "2024-05-27T08:28:34.210Z"
   },
   {
    "duration": 10,
    "start_time": "2024-05-27T08:28:37.653Z"
   },
   {
    "duration": 258,
    "start_time": "2024-05-27T08:28:41.894Z"
   },
   {
    "duration": 7,
    "start_time": "2024-05-27T08:28:47.807Z"
   },
   {
    "duration": 14,
    "start_time": "2024-05-27T08:28:53.224Z"
   },
   {
    "duration": 13,
    "start_time": "2024-05-27T08:28:56.039Z"
   },
   {
    "duration": 11,
    "start_time": "2024-05-27T08:29:01.779Z"
   },
   {
    "duration": 8,
    "start_time": "2024-05-27T08:29:03.905Z"
   },
   {
    "duration": 20,
    "start_time": "2024-05-27T08:29:07.355Z"
   }
  ],
  "kernelspec": {
   "display_name": "Python 3 (ipykernel)",
   "language": "python",
   "name": "python3"
  },
  "language_info": {
   "codemirror_mode": {
    "name": "ipython",
    "version": 3
   },
   "file_extension": ".py",
   "mimetype": "text/x-python",
   "name": "python",
   "nbconvert_exporter": "python",
   "pygments_lexer": "ipython3",
   "version": "3.9.19"
  },
  "toc": {
   "base_numbering": 1,
   "nav_menu": {},
   "number_sections": true,
   "sideBar": true,
   "skip_h1_title": true,
   "title_cell": "Table of Contents",
   "title_sidebar": "Contents",
   "toc_cell": false,
   "toc_position": {
    "height": "calc(100% - 180px)",
    "left": "10px",
    "top": "150px",
    "width": "165px"
   },
   "toc_section_display": true,
   "toc_window_display": false
  }
 },
 "nbformat": 4,
 "nbformat_minor": 2
}
